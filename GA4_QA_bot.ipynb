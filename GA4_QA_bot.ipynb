{
  "cells": [
    {
      "cell_type": "markdown",
      "metadata": {
        "id": "view-in-github",
        "colab_type": "text"
      },
      "source": [
        "<a href=\"https://colab.research.google.com/github/yuukimotai/GA4_QABot/blob/main/GA4_QA_bot.ipynb\" target=\"_parent\"><img src=\"https://colab.research.google.com/assets/colab-badge.svg\" alt=\"Open In Colab\"/></a>"
      ]
    },
    {
      "cell_type": "markdown",
      "source": [
        "### ファインチューニング前応答確認"
      ],
      "metadata": {
        "id": "n1Uvk_izRg1e"
      }
    },
    {
      "cell_type": "code",
      "execution_count": null,
      "metadata": {
        "colab": {
          "base_uri": "https://localhost:8080/"
        },
        "id": "xdTAKHV1N2wy",
        "outputId": "f483daae-372b-4b06-9740-4843bf6e8983"
      },
      "outputs": [
        {
          "output_type": "stream",
          "name": "stdout",
          "text": [
            "Drive already mounted at /content/drive; to attempt to forcibly remount, call drive.mount(\"/content/drive\", force_remount=True).\n"
          ]
        }
      ],
      "source": [
        "from google.colab import drive\n",
        "drive.mount('/content/drive')"
      ]
    },
    {
      "cell_type": "code",
      "execution_count": null,
      "metadata": {
        "id": "Sbvbdp8mENxZ"
      },
      "outputs": [],
      "source": [
        "!pip3 install datasets"
      ]
    },
    {
      "cell_type": "code",
      "execution_count": null,
      "metadata": {
        "id": "iu6v2AqhHa0W"
      },
      "outputs": [],
      "source": [
        "!pip3 install fugashi ipadic"
      ]
    },
    {
      "cell_type": "code",
      "execution_count": null,
      "metadata": {
        "colab": {
          "base_uri": "https://localhost:8080/"
        },
        "id": "01iFLywGEnjI",
        "outputId": "3becb887-31f9-4c06-8ed3-c1933dcd2515"
      },
      "outputs": [
        {
          "name": "stderr",
          "output_type": "stream",
          "text": [
            "Some weights of BertForQuestionAnswering were not initialized from the model checkpoint at cl-tohoku/bert-base-japanese and are newly initialized: ['qa_outputs.bias', 'qa_outputs.weight']\n",
            "You should probably TRAIN this model on a down-stream task to be able to use it for predictions and inference.\n"
          ]
        },
        {
          "name": "stdout",
          "output_type": "stream",
          "text": [
            "Q:  アナリティクス360の特徴は何がありますか？\n",
            "\n",
            "A:  大 規模 な 広告 主 や 広告\n"
          ]
        }
      ],
      "source": [
        "from transformers import BertForQuestionAnswering, BertJapaneseTokenizer# QAモデルとBertの日本語トークナイザ\n",
        "import torch\n",
        "\n",
        "context = \"アナリティクス 360 で企業向け機能を利用するアナリティクス 360 は Google アナリティクス 4 プロパティを基盤とし、より多くのカスタマイズ、大きな規模、企業レベルのサポートによって大規模な広告主や広告代理店の測定ニーズに対応します。\"\n",
        "question = \"アナリティクス360の特徴は何がありますか？\"\n",
        "model_name = \"cl-tohoku/bert-base-japanese\"#東北大事前学習モデルV1\n",
        "tokenizer = BertJapaneseTokenizer.from_pretrained(model_name)\n",
        "model = BertForQuestionAnswering.from_pretrained(model_name)\n",
        "inputs = tokenizer(question, context, add_special_tokens=True, return_tensors=\"pt\")\n",
        "input_ids = inputs[\"input_ids\"].tolist()[0]\n",
        "outputs = model(**inputs)\n",
        "answer_start_scores = outputs.start_logits\n",
        "answer_end_scores = outputs.end_logits\n",
        "\n",
        "answer_start = torch.argmax(answer_start_scores)\n",
        "answer_end = torch.argmax(answer_end_scores) + 1\n",
        "answer = tokenizer.convert_tokens_to_string(\n",
        "    tokenizer.convert_ids_to_tokens(input_ids[answer_start:answer_end]))\n",
        "print(\"Q: \", question)\n",
        "print()\n",
        "print(\"A: \", answer)"
      ]
    },
    {
      "cell_type": "code",
      "execution_count": null,
      "metadata": {
        "id": "JYugFtQWMppA"
      },
      "outputs": [],
      "source": [
        "!pip3 install unidic_lite"
      ]
    },
    {
      "cell_type": "code",
      "execution_count": null,
      "metadata": {
        "colab": {
          "base_uri": "https://localhost:8080/"
        },
        "id": "nEZ_U1WfMcGr",
        "outputId": "5a491195-08cd-4a79-87f0-8d6b99a1b9ec"
      },
      "outputs": [
        {
          "name": "stderr",
          "output_type": "stream",
          "text": [
            "Some weights of BertForQuestionAnswering were not initialized from the model checkpoint at cl-tohoku/bert-base-japanese-v2 and are newly initialized: ['qa_outputs.bias', 'qa_outputs.weight']\n",
            "You should probably TRAIN this model on a down-stream task to be able to use it for predictions and inference.\n"
          ]
        },
        {
          "name": "stdout",
          "output_type": "stream",
          "text": [
            "Q:  アナリティクス360の特徴は何ですか？\n",
            "\n",
            "A:  \n"
          ]
        }
      ],
      "source": [
        "from transformers import BertForQuestionAnswering, BertJapaneseTokenizer\n",
        "import torch\n",
        "\n",
        "context = \"アナリティクス 360 で企業向け機能を利用するアナリティクス 360 は Google アナリティクス 4 プロパティを基盤とし、より多くのカスタマイズ、大きな規模、企業レベルのサポートによって大規模な広告主や広告代理店の測定ニーズに対応します。\"\n",
        "question = \"アナリティクス360の特徴は何ですか？\"\n",
        "model_name = \"cl-tohoku/bert-base-japanese-v2\"#東北大事前学習モデルV2\n",
        "tokenizer = BertJapaneseTokenizer.from_pretrained(model_name)\n",
        "model = BertForQuestionAnswering.from_pretrained(model_name)\n",
        "inputs = tokenizer(question, context, add_special_tokens=True, return_tensors=\"pt\")\n",
        "input_ids = inputs[\"input_ids\"].tolist()[0]\n",
        "outputs = model(**inputs)\n",
        "answer_start_scores = outputs.start_logits\n",
        "answer_end_scores = outputs.end_logits\n",
        "\n",
        "answer_start = torch.argmax(answer_start_scores)\n",
        "answer_end = torch.argmax(answer_end_scores) + 1\n",
        "answer = tokenizer.convert_tokens_to_string(\n",
        "    tokenizer.convert_ids_to_tokens(input_ids[answer_start:answer_end]))\n",
        "print(\"Q: \", question)\n",
        "print()\n",
        "print(\"A: \", answer)"
      ]
    },
    {
      "cell_type": "code",
      "execution_count": null,
      "metadata": {
        "colab": {
          "base_uri": "https://localhost:8080/"
        },
        "id": "-55wCueBMc5Z",
        "outputId": "005bb20e-f0a1-4463-bc5a-6ac3936336eb"
      },
      "outputs": [
        {
          "name": "stderr",
          "output_type": "stream",
          "text": [
            "Some weights of BertForQuestionAnswering were not initialized from the model checkpoint at cl-tohoku/bert-base-japanese-v3 and are newly initialized: ['qa_outputs.bias', 'qa_outputs.weight']\n",
            "You should probably TRAIN this model on a down-stream task to be able to use it for predictions and inference.\n"
          ]
        },
        {
          "name": "stdout",
          "output_type": "stream",
          "text": [
            "Q:  アナリティクス360の特徴って何ですか？\n",
            "\n",
            "A:  [CLS] アナリティクス 360 の 特徴 って 何 です か ? [SEP] アナリティクス 360 で 企業 向け 機能 を 利用 する アナリティクス 360 は Google アナ リティクス 4 プロパティ を 基盤 と\n"
          ]
        }
      ],
      "source": [
        "from transformers import BertForQuestionAnswering, BertJapaneseTokenizer\n",
        "import torch\n",
        "\n",
        "context = \"アナリティクス 360 で企業向け機能を利用するアナリティクス 360 は Google アナリティクス 4 プロパティを基盤とし、より多くのカスタマイズ、大きな規模、企業レベルのサポートによって大規模な広告主や広告代理店の測定ニーズに対応します。\"\n",
        "question = \"アナリティクス360の特徴って何ですか？\"\n",
        "model_name = \"cl-tohoku/bert-base-japanese-v3\"#東北大事前学習モデルV3\n",
        "tokenizer = BertJapaneseTokenizer.from_pretrained(model_name)\n",
        "model = BertForQuestionAnswering.from_pretrained(model_name)\n",
        "inputs = tokenizer(question, context, add_special_tokens=True, return_tensors=\"pt\")\n",
        "input_ids = inputs[\"input_ids\"].tolist()[0]\n",
        "outputs = model(**inputs)\n",
        "answer_start_scores = outputs.start_logits\n",
        "answer_end_scores = outputs.end_logits\n",
        "\n",
        "answer_start = torch.argmax(answer_start_scores)\n",
        "answer_end = torch.argmax(answer_end_scores) + 1\n",
        "answer = tokenizer.convert_tokens_to_string(\n",
        "    tokenizer.convert_ids_to_tokens(input_ids[answer_start:answer_end]))\n",
        "print(\"Q: \", question)\n",
        "print()\n",
        "print(\"A: \", answer)"
      ]
    },
    {
      "cell_type": "code",
      "execution_count": null,
      "metadata": {
        "colab": {
          "base_uri": "https://localhost:8080/"
        },
        "id": "bmLuzMz4KK1R",
        "outputId": "8f84bd33-75cb-4575-8b61-da80aa35cf82"
      },
      "outputs": [
        {
          "name": "stdout",
          "output_type": "stream",
          "text": [
            "Q:  アナリティクス360の特徴は何がありますか？\n",
            "\n",
            "A:  企業 向け 機能 を 利用 する アナリティクス 360 は Google アナリティクス 4 プロパティ を\n"
          ]
        }
      ],
      "source": [
        "from transformers import AutoModelForQuestionAnswering, AutoTokenizer#QAモデルとトークナイザの自動検出\n",
        "\n",
        "question = 'アナリティクス360の特徴は何がありますか？'\n",
        "context = 'アナリティクス 360 で企業向け機能を利用するアナリティクス 360 は Google アナリティクス 4 プロパティを基盤とし、より多くのカスタマイズ、大きな規模、企業レベルのサポートによって大規模な広告主や広告代理店の測定ニーズに対応します。'\n",
        "\n",
        "model = AutoModelForQuestionAnswering.from_pretrained(\n",
        "    'SkelterLabsInc/bert-base-japanese-jaquad')\n",
        "tokenizer = AutoTokenizer.from_pretrained(\n",
        "    'SkelterLabsInc/bert-base-japanese-jaquad')\n",
        "\n",
        "inputs = tokenizer(\n",
        "    question, context, add_special_tokens=True, return_tensors=\"pt\")\n",
        "input_ids = inputs[\"input_ids\"].tolist()[0]\n",
        "outputs = model(**inputs)\n",
        "answer_start_scores = outputs.start_logits\n",
        "answer_end_scores = outputs.end_logits\n",
        "\n",
        "answer_start = torch.argmax(answer_start_scores)\n",
        "\n",
        "answer_end = torch.argmax(answer_end_scores) + 1\n",
        "\n",
        "answer = tokenizer.convert_tokens_to_string(\n",
        "    tokenizer.convert_ids_to_tokens(input_ids[answer_start:answer_end]))\n",
        "print(\"Q: \", question)\n",
        "print()\n",
        "print(\"A: \", answer)"
      ]
    },
    {
      "cell_type": "code",
      "execution_count": null,
      "metadata": {
        "colab": {
          "base_uri": "https://localhost:8080/"
        },
        "outputId": "d8ca2c41-f25a-49c0-b464-e536ab8bd09e",
        "id": "4ePl6QyQ8wEh"
      },
      "outputs": [
        {
          "output_type": "stream",
          "name": "stdout",
          "text": [
            "Q:  アナリティクス360の特徴は何がありますか？\n",
            "\n",
            "A:  カスタマイズ、大きな規模、企業レベルのサポートによって大規模な広告主や広告代理店の測定ニーズ\n"
          ]
        }
      ],
      "source": [
        "from transformers import AutoModelForQuestionAnswering, AutoTokenizer\n",
        "import torch\n",
        "\n",
        "question = 'アナリティクス360の特徴は何がありますか？'\n",
        "context = 'アナリティクス 360 で企業向け機能を利用するアナリティクス 360 は Google アナリティクス 4 プロパティを基盤とし、より多くのカスタマイズ、大きな規模、企業レベルのサポートによって大規模な広告主や広告代理店の測定ニーズに対応します。'\n",
        "model_name = base_path + \"yuukimotai_roberta-finetuned-squad_20240815/checkpoint-2650\"#8/15の間にファインチューニングできたチェックポイント読み込み\n",
        "model = AutoModelForQuestionAnswering.from_pretrained(model_name)\n",
        "tokenizer = AutoTokenizer.from_pretrained(model_name)\n",
        "\n",
        "inputs = tokenizer(\n",
        "    question, context, add_special_tokens=True, return_tensors=\"pt\")\n",
        "input_ids = inputs[\"input_ids\"].tolist()[0]\n",
        "outputs = model(**inputs)\n",
        "answer_start_scores = outputs.start_logits\n",
        "answer_end_scores = outputs.end_logits\n",
        "\n",
        "answer_start = torch.argmax(answer_start_scores)\n",
        "\n",
        "answer_end = torch.argmax(answer_end_scores) + 1\n",
        "\n",
        "answer = tokenizer.convert_tokens_to_string(\n",
        "    tokenizer.convert_ids_to_tokens(input_ids[answer_start:answer_end]))\n",
        "print(\"Q: \", question)\n",
        "print()\n",
        "print(\"A: \", answer)"
      ]
    },
    {
      "cell_type": "markdown",
      "source": [
        "### ファインチューニング用区画"
      ],
      "metadata": {
        "id": "v4rXPu-zUCFy"
      }
    },
    {
      "cell_type": "code",
      "execution_count": null,
      "metadata": {
        "id": "4jeASB7MAZhm"
      },
      "outputs": [],
      "source": [
        "path = \"/content/drive/MyDrive/nlp_dataset/parsed_texts/\" #GA4関連のHTMLパースしたテキスト"
      ]
    },
    {
      "cell_type": "code",
      "source": [
        "base_path = \"/content/drive/MyDrive/nlp_dataset/models/\" #ファインチューニングできたモデル"
      ],
      "metadata": {
        "id": "RJXUFAsUjhu0"
      },
      "execution_count": null,
      "outputs": []
    },
    {
      "cell_type": "code",
      "execution_count": null,
      "metadata": {
        "id": "5RGQBPpIEy_h"
      },
      "outputs": [],
      "source": [
        "squad_path = \"/content/drive/MyDrive/nlp_dataset/ga4_squad/\""
      ]
    },
    {
      "cell_type": "code",
      "source": [
        "import re# html パース用\n",
        "\n",
        "with open(base_path + 'ga4_info-measurement.txt', 'r') as f:\n",
        "  before_parse = f.read()\n",
        "parsed_text =  re.sub(re.compile('<.*?>'), '', before_parse)\n",
        "with open(path + 'ga4_parsed_info-measurement.txt', 'w') as f:\n",
        "  f.writelines(parsed_text)"
      ],
      "metadata": {
        "id": "D6baBsMoiQL2"
      },
      "execution_count": null,
      "outputs": []
    },
    {
      "cell_type": "code",
      "execution_count": null,
      "metadata": {
        "id": "t3iAXczVjJDR",
        "collapsed": true
      },
      "outputs": [],
      "source": [
        "with open(path + 'ga4_parsed_web-app.txt', 'r') as f:\n",
        "  parsed_texts = f.read()\n",
        "  parsed_texts = parsed_texts.replace('\\n', \"。\")\n",
        "parsed_texts"
      ]
    },
    {
      "cell_type": "code",
      "source": [
        "import json# SQuADデータ作成用セル\n",
        "\n",
        "with open(squad_path + \"web-app.json\", \"w\", encoding='utf-8') as f:\n",
        "    data = {\n",
        "        \"data\": [\n",
        "            {\n",
        "              \"title\": \"\",\n",
        "              \"paragraphs\": [\n",
        "                                {\n",
        "                                    \"context\": parsed_texts,\n",
        "                                    \"qas\": [\n",
        "                                                {\n",
        "                                                    \"id\": \"\",\n",
        "                                                    \"question\": \"\",\n",
        "                                                    \"answers\": [\n",
        "                                                                    {\n",
        "                                                                        \"text\": \"\",\n",
        "                                                                        \"answer_start\": []\n",
        "                                                                    }\n",
        "                                                                ]\n",
        "                                                }\n",
        "                                           ]\n",
        "                                }\n",
        "                            ]\n",
        "            }\n",
        "        ]\n",
        "    }\n",
        "    json.dump(data, f, indent=4, ensure_ascii=False)"
      ],
      "metadata": {
        "id": "ArxdVwIRfV19"
      },
      "execution_count": null,
      "outputs": []
    },
    {
      "cell_type": "code",
      "source": [
        "import json\n",
        "with open(squad_path + \"web-app.json\", \"r\") as f:\n",
        "  data = json.load(f)\n",
        "data"
      ],
      "metadata": {
        "id": "IED-Z6XRfbDW"
      },
      "execution_count": null,
      "outputs": []
    },
    {
      "cell_type": "code",
      "execution_count": null,
      "metadata": {
        "id": "GfCmuyDdhCCu"
      },
      "outputs": [],
      "source": [
        "with open(path + 'ga4_parsed_web-app.txt', 'w') as f:\n",
        "  for sentence in parsed_texts:\n",
        "    sentence = sentence.replace('。', '\\n')\n",
        "    if sentence != \"\":\n",
        "      f.writelines(sentence)"
      ]
    },
    {
      "cell_type": "code",
      "execution_count": null,
      "metadata": {
        "id": "DPex6T2POVcs"
      },
      "outputs": [],
      "source": [
        "import json\n",
        "\n",
        "json_list = []\n",
        "with open(squad_path + \"business-accountsettings.json\", \"a\", encoding='utf-8') as f:\n",
        "  for i in range(len(parsed_texts)):# parseしたテキストの行数だけループ\n",
        "      data = {\n",
        "          \"context\": parsed_texts[i],\n",
        "          \"question\": \"\",\n",
        "          \"answers\": {\n",
        "              \"text\": [],\n",
        "              \"answer_start\": []\n",
        "          }\n",
        "      }\n",
        "      json_list.append(data)\n",
        "  json.dump(json_list, f, indent=4, ensure_ascii=False)# json_listに入れたデータを出力"
      ]
    },
    {
      "cell_type": "code",
      "source": [
        "import json\n",
        "\n",
        "json_list = []\n",
        "with open(squad_path + \"business-accountsettings_v2.json\", \"w\", encoding='utf-8') as f:\n",
        "  for i in range(len(parsed_texts)):\n",
        "    data = {\n",
        "        \"data\": [\n",
        "            {\n",
        "              \"title\": \"\",\n",
        "              \"paragraphs\": [\n",
        "                                {\n",
        "                                    \"context\": parsed_texts[i],\n",
        "                                    \"qas\": [\n",
        "                                                {\n",
        "                                                    \"id\": \"\",\n",
        "                                                    \"question\": \"\",\n",
        "                                                    \"answers\": [\n",
        "                                                                    {\n",
        "                                                                        \"text\": \"\",\n",
        "                                                                        \"answer_start\": []\n",
        "                                                                    }\n",
        "                                                                ]\n",
        "                                                }\n",
        "                                           ]\n",
        "                                }\n",
        "                            ]\n",
        "            }\n",
        "        ]\n",
        "    }\n",
        "    json_list.append(data)\n",
        "  json.dump(json_list, f, indent=4, ensure_ascii=False)"
      ],
      "metadata": {
        "id": "6A09_mBlnNNO"
      },
      "execution_count": null,
      "outputs": []
    },
    {
      "cell_type": "code",
      "execution_count": null,
      "metadata": {
        "id": "16WfM0ePlgVw"
      },
      "outputs": [],
      "source": [
        "with open(path + 'ga4_parsed_analytics360.txt', 'w') as f:\n",
        "  for sentence in sentence_list:\n",
        "    f.writelines(sentence)"
      ]
    },
    {
      "cell_type": "code",
      "source": [
        "!pip3 install fugashi ipadic"
      ],
      "metadata": {
        "id": "jx_O6ZUBUhxH"
      },
      "execution_count": null,
      "outputs": []
    },
    {
      "cell_type": "code",
      "source": [
        "!pip3 install datasets"
      ],
      "metadata": {
        "id": "ZgqTaqGonE68"
      },
      "execution_count": null,
      "outputs": []
    },
    {
      "cell_type": "code",
      "source": [
        "!pip3 show datasets"
      ],
      "metadata": {
        "colab": {
          "base_uri": "https://localhost:8080/"
        },
        "id": "ISvrAMtioeQO",
        "outputId": "11508030-8de1-40f7-c304-32cda7487be2"
      },
      "execution_count": null,
      "outputs": [
        {
          "output_type": "stream",
          "name": "stdout",
          "text": [
            "\u001b[33mWARNING: Package(s) not found: datasets\u001b[0m\u001b[33m\n",
            "\u001b[0m"
          ]
        }
      ]
    },
    {
      "cell_type": "code",
      "source": [
        "from datasets import load_dataset\n",
        "squad = load_dataset('SkelterLabsInc/JaQuAD', trust_remote_code=True)"
      ],
      "metadata": {
        "id": "n2q9Wvx7zP04",
        "colab": {
          "base_uri": "https://localhost:8080/",
          "height": 272,
          "referenced_widgets": [
            "958765a8953f42108f86d35d134b5194",
            "a617b21350dc44fea2a464808bfea02b",
            "314c74ff5c484c1384f8cf41aec704fa",
            "00f9cb3fa00048fba8c3833ffee7777d",
            "38f1b3d244b84f4d8221f0c43eaf9212",
            "ff7ac67e4766448597885868cf53b798",
            "fb30a8b76577459898f7dcdad665f438",
            "9d2b4f9cf56a4a74a4517379526cc0b8",
            "32caf49f3b324dd8aa6a517a3e64a8cc",
            "45f13c2c991b4b60bf7a9b93531d465c",
            "d8b0aaff87c94f24873efdc30abc316e",
            "75c71989ad3e4167bc52594be97bef2d",
            "c266de5ac91c40ac87d64404071958ac",
            "dcd98b9e6738471190ba9d1150db1bef",
            "6d97ac8ec2c2444c912e5180c6699818",
            "18b4d29696a94b93b3f0e3724e6c919c",
            "24fd705499984982b6c5e9ce0169c7b3",
            "696c2f7de71c4586a0a75f6be899cab8",
            "3777def3c9944330ad5c2ffd902ff4fb",
            "b2802591f202440daf7134c4c19521f8",
            "16f0d9479d7f4b6dba47fd7a2b933f1f",
            "ff1bdae1cb4e4627ae259385a4547e19",
            "deab59ca31864456adc0683b32af2a73",
            "1363b98c11c94e52b401ebba549912ac",
            "7d4982ceb3ca421696bb64f0df148818",
            "ac74faaec8d14286b68287c4c20ddec5",
            "5c98d66589334fcaaf0578ef4c748e68",
            "afc46d817ebe4ecd81ab126bd52b116d",
            "29e5e8f9493948348532b3c9f854cb5d",
            "905779a4f61f452798675de18d8e232f",
            "fcb5faf4660f4547b1a8743f178a4a90",
            "36147802ce58434c80a36b431bd409ec",
            "213ea13ad9a241d3a49f28edfc0298ca",
            "5357486b68c146fc9b96a8a96d620648",
            "a384850f93b448959693a04ae389514d",
            "846a2b3107974f99b7f4a20aacb16bd4",
            "ca2e87f992584e41bab2c47ece3b617d",
            "63aeb85414bb43c1a89451ab9bbc2577",
            "c28e60160a4f4f80ae426e718a161697",
            "d3129e75c86b43e281edf2b27073e7d7",
            "f8b0cb631fce489bbfb330254c0d2bd7",
            "f478050c53ee4bbcba2c134c989d61ea",
            "f4fb6ab15f0e4001bab0d8a397484961",
            "1ca49e3fcfc64b738acbd924235d2e6b"
          ]
        },
        "outputId": "a6c1bfd9-a970-4ad0-a1c1-86f78c8c41c9"
      },
      "execution_count": null,
      "outputs": [
        {
          "output_type": "stream",
          "name": "stderr",
          "text": [
            "/usr/local/lib/python3.10/dist-packages/huggingface_hub/utils/_token.py:89: UserWarning: \n",
            "The secret `HF_TOKEN` does not exist in your Colab secrets.\n",
            "To authenticate with the Hugging Face Hub, create a token in your settings tab (https://huggingface.co/settings/tokens), set it as secret in your Google Colab and restart your session.\n",
            "You will be able to reuse this secret in all of your notebooks.\n",
            "Please note that authentication is recommended but still optional to access public models or datasets.\n",
            "  warnings.warn(\n"
          ]
        },
        {
          "output_type": "display_data",
          "data": {
            "text/plain": [
              "Downloading data:   0%|          | 0.00/8.53M [00:00<?, ?B/s]"
            ],
            "application/vnd.jupyter.widget-view+json": {
              "version_major": 2,
              "version_minor": 0,
              "model_id": "958765a8953f42108f86d35d134b5194"
            }
          },
          "metadata": {}
        },
        {
          "output_type": "display_data",
          "data": {
            "text/plain": [
              "Downloading data:   0%|          | 0.00/1.18M [00:00<?, ?B/s]"
            ],
            "application/vnd.jupyter.widget-view+json": {
              "version_major": 2,
              "version_minor": 0,
              "model_id": "75c71989ad3e4167bc52594be97bef2d"
            }
          },
          "metadata": {}
        },
        {
          "output_type": "display_data",
          "data": {
            "text/plain": [
              "Generating train split:   0%|          | 0/31748 [00:00<?, ? examples/s]"
            ],
            "application/vnd.jupyter.widget-view+json": {
              "version_major": 2,
              "version_minor": 0,
              "model_id": "deab59ca31864456adc0683b32af2a73"
            }
          },
          "metadata": {}
        },
        {
          "output_type": "display_data",
          "data": {
            "text/plain": [
              "Generating validation split:   0%|          | 0/3939 [00:00<?, ? examples/s]"
            ],
            "application/vnd.jupyter.widget-view+json": {
              "version_major": 2,
              "version_minor": 0,
              "model_id": "5357486b68c146fc9b96a8a96d620648"
            }
          },
          "metadata": {}
        }
      ]
    },
    {
      "cell_type": "code",
      "source": [
        "squad"
      ],
      "metadata": {
        "colab": {
          "base_uri": "https://localhost:8080/"
        },
        "id": "HbpGvfTezxMG",
        "outputId": "14baf9bd-b206-4bd9-ec33-67b49804e21f"
      },
      "execution_count": null,
      "outputs": [
        {
          "output_type": "execute_result",
          "data": {
            "text/plain": [
              "DatasetDict({\n",
              "    train: Dataset({\n",
              "        features: ['id', 'title', 'context', 'question', 'question_type', 'answers'],\n",
              "        num_rows: 31748\n",
              "    })\n",
              "    validation: Dataset({\n",
              "        features: ['id', 'title', 'context', 'question', 'question_type', 'answers'],\n",
              "        num_rows: 3939\n",
              "    })\n",
              "})"
            ]
          },
          "metadata": {},
          "execution_count": 9
        }
      ]
    },
    {
      "cell_type": "code",
      "execution_count": null,
      "metadata": {
        "id": "7ibSgKkbEFaC"
      },
      "outputs": [],
      "source": [
        "from datasets import load_dataset\n",
        "import pandas as pd\n",
        "\n",
        "squad = load_dataset('facebook/belebele', data_files=\"data/jpn_Jpan.jsonl\", streaming=True,trust_remote_code=True)\n",
        "data_list = []\n",
        "squad_iter = iter(squad['train'])\n",
        "for data in squad_iter:\n",
        "  data_list.append(data)\n",
        "\n",
        "data_list"
      ]
    },
    {
      "cell_type": "code",
      "source": [
        "dataset = pd.DataFrame(data_list)\n",
        "dataset['text'][0]"
      ],
      "metadata": {
        "colab": {
          "base_uri": "https://localhost:8080/",
          "height": 160
        },
        "id": "-eMeSnQvulRJ",
        "outputId": "dd981b19-cd46-40a1-acfd-dea508f9d43f"
      },
      "execution_count": null,
      "outputs": [
        {
          "output_type": "execute_result",
          "data": {
            "text/plain": [
              "'神社などへ一緒に同行して、様々な角度のショットで家族写真やお子様の写真を撮影致します！お好みに合わせて様々な写真を取ることができますので、その場でカメラマンへのリクエストも可能です！お子様の晴れ姿を、緊張していない自然な笑顔で残しませんか？\\n※七五三の対象者が1名のプランです。ご兄弟、ご友人様もご一緒になどと、主役が2名、3名と複数名いらっしゃる場合は、＋5,000円（税抜）/1名の別途料金が発生いたします。（納品枚数＋約15カット、撮影時間＋20分/1名）\\n※撮影神社、宮社によっては撮影許可料（3,000円ほど）が別途発生いたす場所がございます。こちらは弊社撮影料金には含まれておりませんので、事前に撮影希望神社へお客様よりご確認、お支払いをお願いしております。ご確認の程よろしくお願いいたします。'"
            ],
            "application/vnd.google.colaboratory.intrinsic+json": {
              "type": "string"
            }
          },
          "metadata": {},
          "execution_count": 85
        }
      ]
    },
    {
      "cell_type": "code",
      "source": [
        "from sklearn.model_selection import train_test_split\n",
        "from datasets import Dataset, DatasetDict\n",
        "\n",
        "train, valid = train_test_split(squad, test_size=0.2)\n",
        "ds_train = Dataset.from_pandas(train)\n",
        "ds_valid = Dataset.from_pandas(valid)\n",
        "\n",
        "dataset = DatasetDict({\n",
        "    \"train\": ds_train,\n",
        "    \"validation\": ds_valid,\n",
        "})\n",
        "dataset"
      ],
      "metadata": {
        "id": "y9FsnMH8WzmJ"
      },
      "execution_count": null,
      "outputs": []
    },
    {
      "cell_type": "code",
      "source": [
        "from transformers import AutoTokenizer\n",
        "import pandas as pd\n",
        "\n",
        "model_name = base_path + \"yuukimotai_roberta-finetuned-squad_20240814/checkpoint-2650\"\n",
        "tokenizer = AutoTokenizer.from_pretrained(model_name)"
      ],
      "metadata": {
        "id": "ozKJJT6cUHCK"
      },
      "execution_count": null,
      "outputs": []
    },
    {
      "cell_type": "code",
      "source": [
        "# デバイス判定\n",
        "import torch\n",
        "device = \"cuda:0\" if torch.cuda.is_available() else \"cpu\"\n",
        "\n",
        "# 変換関数　huggingface公式資料から引用\n",
        "def preprocess_function(examples):\n",
        "    questions = [q.strip() for q in examples[\"question\"]]\n",
        "    inputs = tokenizer(\n",
        "        questions,\n",
        "        examples[\"context\"],\n",
        "        max_length=450,\n",
        "        truncation=\"only_second\",\n",
        "        return_offsets_mapping=True,\n",
        "        padding=\"max_length\",\n",
        "        return_tensors=\"pt\").to(device)\n",
        "\n",
        "    offset_mapping = inputs.pop(\"offset_mapping\")\n",
        "    answers = examples[\"answers\"]\n",
        "    start_positions = []\n",
        "    end_positions = []\n",
        "\n",
        "    for i, offset in enumerate(offset_mapping):\n",
        "        answer = answers[i]\n",
        "        start_char = answer[\"answer_start\"][0]\n",
        "        end_char = answer[\"answer_start\"][0] + len(answer[\"text\"][0])\n",
        "        sequence_ids = inputs.sequence_ids(i)\n",
        "\n",
        "        # Find the start and end of the context\n",
        "        idx = 0\n",
        "        while sequence_ids[idx] != 1:\n",
        "            idx += 1\n",
        "        context_start = idx\n",
        "        while sequence_ids[idx] == 1:\n",
        "            idx += 1\n",
        "        context_end = idx - 1\n",
        "\n",
        "        # If the answer is not fully inside the context, label it (0, 0)\n",
        "        if offset[context_start][0] > end_char or offset[context_end][1] < start_char:\n",
        "            start_positions.append(0)\n",
        "            end_positions.append(0)\n",
        "        else:\n",
        "            # Otherwise it's the start and end token positions\n",
        "            idx = context_start\n",
        "            while idx <= context_end and offset[idx][0] <= start_char:\n",
        "                idx += 1\n",
        "            start_positions.append(idx - 1)\n",
        "\n",
        "            idx = context_end\n",
        "            while idx >= context_start and offset[idx][1] >= end_char:\n",
        "                idx -= 1\n",
        "            end_positions.append(idx + 1)\n",
        "\n",
        "    inputs[\"start_positions\"] = start_positions\n",
        "    inputs[\"end_positions\"] = end_positions\n",
        "    return inputs\n",
        "\n",
        "\n",
        "# 変換\n",
        "tokenized_data = squad.map(preprocess_function, batched=True)\n",
        "tokenized_data"
      ],
      "metadata": {
        "colab": {
          "base_uri": "https://localhost:8080/",
          "height": 295,
          "referenced_widgets": [
            "835d5415e7c842a5a17b25c023178360",
            "c2d0181c401b4a82a9a3519d6b9908fd",
            "a01ad66659f34627bf72a7a503c6e811",
            "47bfd50f49e44f35ba16daa69dda16e7",
            "7fb01dd6f6d544979151419b33676b84",
            "7c7006c632c440f7830376cae1f92994",
            "44b0e4d5e91a4439ac577c4a3f8d207d",
            "bb2b33d4de774d8b8bce917d4511abda",
            "98109c2e8f944891b0a6f80bfb6ec516",
            "2dde7b0a8e3b42ab973826ddad8ede76",
            "a6d49954aef84328b7ecc1e0227685b1",
            "8a5e4827a193443099df3de46123a811",
            "2ae9256c82274f56835953b3c384a829",
            "dc7ce86de14d422294e9d530d8c6e318",
            "0494e6898e97402581c3d992b05aa6e5",
            "258625bfd6b946dc8ad4d0ce72bac5f2",
            "fa88c52394aa47fd800d3d9d84dfed80",
            "828a402111a14ea7b48fbec655f0cd9e",
            "9d3882fb2c394b7aaba723dcaf5d900c",
            "d8e47a6511f2472a9ae3efc3f39b2b78",
            "0fdba8c86bd44e7b886607fc2bfd7848",
            "7573a16ea75d407bb34891e8781976a3"
          ]
        },
        "id": "6s4927XZXW5y",
        "outputId": "ebec4f95-b662-41c6-ce0a-e4ee90373afa"
      },
      "execution_count": null,
      "outputs": [
        {
          "output_type": "display_data",
          "data": {
            "text/plain": [
              "Map:   0%|          | 0/31748 [00:00<?, ? examples/s]"
            ],
            "application/vnd.jupyter.widget-view+json": {
              "version_major": 2,
              "version_minor": 0,
              "model_id": "835d5415e7c842a5a17b25c023178360"
            }
          },
          "metadata": {}
        },
        {
          "output_type": "display_data",
          "data": {
            "text/plain": [
              "Map:   0%|          | 0/3939 [00:00<?, ? examples/s]"
            ],
            "application/vnd.jupyter.widget-view+json": {
              "version_major": 2,
              "version_minor": 0,
              "model_id": "8a5e4827a193443099df3de46123a811"
            }
          },
          "metadata": {}
        },
        {
          "output_type": "execute_result",
          "data": {
            "text/plain": [
              "DatasetDict({\n",
              "    train: Dataset({\n",
              "        features: ['id', 'title', 'context', 'question', 'question_type', 'answers', 'input_ids', 'token_type_ids', 'attention_mask', 'start_positions', 'end_positions'],\n",
              "        num_rows: 31748\n",
              "    })\n",
              "    validation: Dataset({\n",
              "        features: ['id', 'title', 'context', 'question', 'question_type', 'answers', 'input_ids', 'token_type_ids', 'attention_mask', 'start_positions', 'end_positions'],\n",
              "        num_rows: 3939\n",
              "    })\n",
              "})"
            ]
          },
          "metadata": {},
          "execution_count": 6
        }
      ]
    },
    {
      "cell_type": "code",
      "source": [
        "from transformers import TrainingArguments\n",
        "\n",
        "training_args = TrainingArguments(\n",
        "    output_dir= base_path + \"yuukimotai_roberta-finetuned-squad_20240815/\",\n",
        "    evaluation_strategy=\"epoch\",# 1エポックごとに評価\n",
        "    logging_strategy=\"epoch\",# 1エポックごとにログ出力\n",
        "    save_strategy=\"epoch\", # チェックポイントの保存を1エポックごとに指定\n",
        "    save_total_limit=1,\n",
        "    learning_rate=5e-7, #学習レート\n",
        "    per_device_train_batch_size=8,# トレーニングデータのバッチサイズ\n",
        "    per_device_eval_batch_size=8, # 評価データのバッチサイズ\n",
        "    num_train_epochs=10,# 10エポックでトレーニング\n",
        "    weight_decay=0.1, # 正則化\n",
        "    load_best_model_at_end=True, # 終了時に一番良かったモデルを使う\n",
        "    logging_dir='./logs',  # ログ出力ディレクトリ\n",
        "    # logging_steps=10,  # ログの頻度\n",
        "    seed=42,  # 再現性のためのシード値設定\n",
        "    lr_scheduler_type='linear',\n",
        "    warmup_steps=int(2650 * 0.2),\n",
        ")\n",
        "\n",
        "from transformers import default_data_collator\n",
        "data_collator = default_data_collator"
      ],
      "metadata": {
        "id": "FgyZDPNxoEoC",
        "colab": {
          "base_uri": "https://localhost:8080/"
        },
        "outputId": "572435d8-3f6c-47be-8f5e-16c23104cd99"
      },
      "execution_count": null,
      "outputs": [
        {
          "output_type": "stream",
          "name": "stderr",
          "text": [
            "/usr/local/lib/python3.10/dist-packages/transformers/training_args.py:1494: FutureWarning: `evaluation_strategy` is deprecated and will be removed in version 4.46 of 🤗 Transformers. Use `eval_strategy` instead\n",
            "  warnings.warn(\n"
          ]
        }
      ]
    },
    {
      "source": [
        "from transformers import AutoModelForQuestionAnswering, AutoConfig\n",
        "\n",
        "model_name = base_path + \"yuukimotai_roberta-finetuned-squad_20240814/checkpoint-2650\"\n",
        "config = AutoConfig.from_pretrained(model_name, attention_probs_dropout_prob=0.3)\n",
        "model = AutoModelForQuestionAnswering.from_pretrained(model_name, config=config).to(device)"
      ],
      "cell_type": "code",
      "metadata": {
        "id": "hgU5UHzP4sbP"
      },
      "execution_count": null,
      "outputs": []
    },
    {
      "cell_type": "code",
      "source": [
        "from transformers import AutoModelForQuestionAnswering, AutoConfig\n",
        "\n",
        "model_name = \"nlp-waseda/roberta-base-japanese\"\n",
        "config = AutoConfig.from_pretrained(model_name, attention_probs_dropout_prob=0.3)\n",
        "model = AutoModelForQuestionAnswering.from_pretrained(model_name, config=config).to(device)"
      ],
      "metadata": {
        "id": "pfqW_2YExkbU",
        "colab": {
          "base_uri": "https://localhost:8080/"
        },
        "outputId": "2d9f86b2-19b8-443f-d09a-f90ff1fb6665"
      },
      "execution_count": null,
      "outputs": [
        {
          "output_type": "stream",
          "name": "stderr",
          "text": [
            "Some weights of RobertaForQuestionAnswering were not initialized from the model checkpoint at nlp-waseda/roberta-base-japanese and are newly initialized: ['qa_outputs.bias', 'qa_outputs.weight']\n",
            "You should probably TRAIN this model on a down-stream task to be able to use it for predictions and inference.\n"
          ]
        }
      ]
    },
    {
      "cell_type": "code",
      "source": [
        "from transformers import Trainer, EarlyStoppingCallback\n",
        "\n",
        "num_shards = 15\n",
        "histories = []\n",
        "\n",
        "for i in range(4, 10):\n",
        "    shard_train = tokenized_data['train'].shard(num_shards=num_shards, index=i)\n",
        "\n",
        "    trainer = Trainer(\n",
        "        model=model,\n",
        "        args=training_args,\n",
        "        train_dataset=shard_train,\n",
        "        eval_dataset=tokenized_data['validation'],\n",
        "        data_collator=data_collator,\n",
        "        tokenizer=tokenizer,\n",
        "        callbacks=[EarlyStoppingCallback(early_stopping_patience=1)],\n",
        "    )\n",
        "    trainer.train()\n",
        "    trainer.evaluate()\n",
        "    histories.append(trainer.state.log_history)\n",
        "    # trainer.save_model(f\"./my_model20240807_shard_{i}\")"
      ],
      "metadata": {
        "id": "Z9KJYfFMoLQP",
        "colab": {
          "base_uri": "https://localhost:8080/",
          "height": 517
        },
        "outputId": "bb374cb1-3d05-4b5c-d384-8674c1a5ff0f"
      },
      "execution_count": null,
      "outputs": [
        {
          "output_type": "display_data",
          "data": {
            "text/plain": [
              "<IPython.core.display.HTML object>"
            ],
            "text/html": [
              "\n",
              "    <div>\n",
              "      \n",
              "      <progress value='2650' max='2650' style='width:300px; height:20px; vertical-align: middle;'></progress>\n",
              "      [2650/2650 49:03, Epoch 10/10]\n",
              "    </div>\n",
              "    <table border=\"1\" class=\"dataframe\">\n",
              "  <thead>\n",
              " <tr style=\"text-align: left;\">\n",
              "      <th>Epoch</th>\n",
              "      <th>Training Loss</th>\n",
              "      <th>Validation Loss</th>\n",
              "    </tr>\n",
              "  </thead>\n",
              "  <tbody>\n",
              "    <tr>\n",
              "      <td>1</td>\n",
              "      <td>4.326500</td>\n",
              "      <td>4.120426</td>\n",
              "    </tr>\n",
              "    <tr>\n",
              "      <td>2</td>\n",
              "      <td>4.327100</td>\n",
              "      <td>4.110720</td>\n",
              "    </tr>\n",
              "    <tr>\n",
              "      <td>3</td>\n",
              "      <td>4.297700</td>\n",
              "      <td>4.098184</td>\n",
              "    </tr>\n",
              "    <tr>\n",
              "      <td>4</td>\n",
              "      <td>4.295000</td>\n",
              "      <td>4.087433</td>\n",
              "    </tr>\n",
              "    <tr>\n",
              "      <td>5</td>\n",
              "      <td>4.242500</td>\n",
              "      <td>4.077086</td>\n",
              "    </tr>\n",
              "    <tr>\n",
              "      <td>6</td>\n",
              "      <td>4.242700</td>\n",
              "      <td>4.069129</td>\n",
              "    </tr>\n",
              "    <tr>\n",
              "      <td>7</td>\n",
              "      <td>4.239400</td>\n",
              "      <td>4.062108</td>\n",
              "    </tr>\n",
              "    <tr>\n",
              "      <td>8</td>\n",
              "      <td>4.207500</td>\n",
              "      <td>4.061045</td>\n",
              "    </tr>\n",
              "    <tr>\n",
              "      <td>9</td>\n",
              "      <td>4.217100</td>\n",
              "      <td>4.056472</td>\n",
              "    </tr>\n",
              "    <tr>\n",
              "      <td>10</td>\n",
              "      <td>4.211300</td>\n",
              "      <td>4.055134</td>\n",
              "    </tr>\n",
              "  </tbody>\n",
              "</table><p>"
            ]
          },
          "metadata": {}
        },
        {
          "output_type": "display_data",
          "data": {
            "text/plain": [
              "<IPython.core.display.HTML object>"
            ],
            "text/html": [
              "\n",
              "    <div>\n",
              "      \n",
              "      <progress value='493' max='493' style='width:300px; height:20px; vertical-align: middle;'></progress>\n",
              "      [493/493 01:48]\n",
              "    </div>\n",
              "    "
            ]
          },
          "metadata": {}
        },
        {
          "output_type": "display_data",
          "data": {
            "text/plain": [
              "<IPython.core.display.HTML object>"
            ],
            "text/html": [
              "\n",
              "    <div>\n",
              "      \n",
              "      <progress value='361' max='2650' style='width:300px; height:20px; vertical-align: middle;'></progress>\n",
              "      [ 361/2650 05:55 < 37:48, 1.01 it/s, Epoch 1.36/10]\n",
              "    </div>\n",
              "    <table border=\"1\" class=\"dataframe\">\n",
              "  <thead>\n",
              " <tr style=\"text-align: left;\">\n",
              "      <th>Epoch</th>\n",
              "      <th>Training Loss</th>\n",
              "      <th>Validation Loss</th>\n",
              "    </tr>\n",
              "  </thead>\n",
              "  <tbody>\n",
              "    <tr>\n",
              "      <td>1</td>\n",
              "      <td>4.252700</td>\n",
              "      <td>4.051817</td>\n",
              "    </tr>\n",
              "  </tbody>\n",
              "</table><p>"
            ]
          },
          "metadata": {}
        }
      ]
    },
    {
      "cell_type": "code",
      "source": [
        "for history in histories:\n",
        "    print(history)"
      ],
      "metadata": {
        "id": "wGYqHLvBS7cr"
      },
      "execution_count": null,
      "outputs": []
    },
    {
      "source": [
        "import matplotlib.pyplot as plt\n",
        "\n",
        "# 各シャードのトレーニングロスとバリデーションロスを格納するリスト\n",
        "training_losses = []\n",
        "validation_losses = []\n",
        "\n",
        "# histories からロスを取り出す\n",
        "for history in histories:\n",
        "    train_loss = [x['loss'] for x in history if 'loss' in x]\n",
        "    valid_loss = [x['eval_loss'] for x in history if 'eval_loss' in x]\n",
        "    training_losses.append(train_loss)\n",
        "    validation_losses.append(valid_loss)\n",
        "\n",
        "validation_losses = [loss[1:] for loss in validation_losses]\n",
        "\n",
        "# プロット\n",
        "epochs = range(1, len(training_losses[0]) + 1)\n",
        "for i in range(len(training_losses)):\n",
        "    plt.plot(epochs, training_losses[i], label=f'Shard {i+1} Train Loss')\n",
        "    plt.plot(epochs, validation_losses[i], label=f'Shard {i+1} Valid Loss')\n",
        "\n",
        "plt.xlabel('Epoch')\n",
        "plt.ylabel('Loss')\n",
        "plt.title('Training and Validation Loss')\n",
        "plt.legend()\n",
        "plt.grid(True)\n",
        "plt.show()"
      ],
      "cell_type": "code",
      "metadata": {
        "id": "pBcXzL18fO_2"
      },
      "execution_count": null,
      "outputs": []
    },
    {
      "source": [
        "import matplotlib.pyplot as plt\n",
        "\n",
        "# 各シャードのトレーニングロスとバリデーションロスを格納するリスト\n",
        "training_losses = []\n",
        "validation_losses = []\n",
        "\n",
        "# histories からロスを取り出す\n",
        "for history in histories:\n",
        "    train_loss = [x['loss'] for x in history if 'loss' in x]\n",
        "    valid_loss = [x['eval_loss'] for x in history if 'eval_loss' in x]\n",
        "    training_losses.append(train_loss)\n",
        "    validation_losses.append(valid_loss)\n",
        "\n",
        "validation_losses = [loss[1:] for loss in validation_losses]\n",
        "\n",
        "# プロット\n",
        "epochs = range(1, len(training_losses[0]) + 1)\n",
        "for i in range(len(training_losses)):\n",
        "    # epochs と training_losses[i] の長さを比較し、短い方に合わせる\n",
        "    min_length = min(len(epochs), len(training_losses[i]))\n",
        "    plt.plot(epochs[:min_length], training_losses[i][:min_length], label=f'Shard {i+1} Train Loss')\n",
        "\n",
        "    # epochs と validation_losses[i] の長さを比較し、短い方に合わせる\n",
        "    min_length = min(len(epochs), len(validation_losses[i]))\n",
        "    plt.plot(epochs[:min_length], validation_losses[i][:min_length], label=f'Shard {i+1} Valid Loss')\n",
        "\n",
        "plt.xlabel('Epoch')\n",
        "plt.ylabel('Loss')\n",
        "plt.title('Training and Validation Loss')\n",
        "plt.legend()\n",
        "plt.grid(True)\n",
        "plt.show()"
      ],
      "cell_type": "code",
      "metadata": {
        "colab": {
          "base_uri": "https://localhost:8080/",
          "height": 472
        },
        "outputId": "a13178bb-2575-493f-bfbd-febd52005b39",
        "id": "fvb-kJIJI97s"
      },
      "execution_count": null,
      "outputs": [
        {
          "output_type": "display_data",
          "data": {
            "text/plain": [
              "<Figure size 640x480 with 1 Axes>"
            ],
            "image/png": "[encoded data removed]"
          },
          "metadata": {}
        }
      ]
    },
    {
      "cell_type": "code",
      "source": [
        "from google.colab import drive\n",
        "drive.mount('/content/drive')"
      ],
      "metadata": {
        "colab": {
          "base_uri": "https://localhost:8080/"
        },
        "id": "1P6iVm1efyfI",
        "outputId": "b4e0635a-e4a8-41f1-bc84-c81cd4afedfc"
      },
      "execution_count": null,
      "outputs": [
        {
          "output_type": "stream",
          "name": "stdout",
          "text": [
            "Drive already mounted at /content/drive; to attempt to forcibly remount, call drive.mount(\"/content/drive\", force_remount=True).\n"
          ]
        }
      ]
    },
    {
      "cell_type": "code",
      "source": [
        "!mv ./results drive/MyDrive/nlp_dataset/models"
      ],
      "metadata": {
        "id": "qhek-I9RhB8Z"
      },
      "execution_count": null,
      "outputs": []
    },
    {
      "cell_type": "code",
      "source": [
        "from transformers import AutoModelForQuestionAnswering, AutoConfig\n",
        "\n",
        "model_name = \"/content/drive/MyDrive/nlp_dataset/models/yuukimotai_roberta-finetuned-squad_20240808/checkpoint-2650\"\n",
        "config = AutoConfig.from_pretrained(model_name, attention_probs_dropout_prob=0.3)\n",
        "model = AutoModelForQuestionAnswering.from_pretrained(model_name, config=config).to(device)"
      ],
      "metadata": {
        "id": "E4waTLcZhI_R"
      },
      "execution_count": null,
      "outputs": []
    },
    {
      "cell_type": "code",
      "source": [
        "model"
      ],
      "metadata": {
        "colab": {
          "base_uri": "https://localhost:8080/"
        },
        "id": "KwnutmNLkSFf",
        "outputId": "e911f49c-4bba-4c01-82fb-f7c6697db54b"
      },
      "execution_count": null,
      "outputs": [
        {
          "output_type": "execute_result",
          "data": {
            "text/plain": [
              "RobertaForQuestionAnswering(\n",
              "  (roberta): RobertaModel(\n",
              "    (embeddings): RobertaEmbeddings(\n",
              "      (word_embeddings): Embedding(32000, 768, padding_idx=0)\n",
              "      (position_embeddings): Embedding(514, 768, padding_idx=0)\n",
              "      (token_type_embeddings): Embedding(2, 768)\n",
              "      (LayerNorm): LayerNorm((768,), eps=1e-12, elementwise_affine=True)\n",
              "      (dropout): Dropout(p=0.1, inplace=False)\n",
              "    )\n",
              "    (encoder): RobertaEncoder(\n",
              "      (layer): ModuleList(\n",
              "        (0-11): 12 x RobertaLayer(\n",
              "          (attention): RobertaAttention(\n",
              "            (self): RobertaSelfAttention(\n",
              "              (query): Linear(in_features=768, out_features=768, bias=True)\n",
              "              (key): Linear(in_features=768, out_features=768, bias=True)\n",
              "              (value): Linear(in_features=768, out_features=768, bias=True)\n",
              "              (dropout): Dropout(p=0.3, inplace=False)\n",
              "            )\n",
              "            (output): RobertaSelfOutput(\n",
              "              (dense): Linear(in_features=768, out_features=768, bias=True)\n",
              "              (LayerNorm): LayerNorm((768,), eps=1e-12, elementwise_affine=True)\n",
              "              (dropout): Dropout(p=0.1, inplace=False)\n",
              "            )\n",
              "          )\n",
              "          (intermediate): RobertaIntermediate(\n",
              "            (dense): Linear(in_features=768, out_features=3072, bias=True)\n",
              "            (intermediate_act_fn): GELUActivation()\n",
              "          )\n",
              "          (output): RobertaOutput(\n",
              "            (dense): Linear(in_features=3072, out_features=768, bias=True)\n",
              "            (LayerNorm): LayerNorm((768,), eps=1e-12, elementwise_affine=True)\n",
              "            (dropout): Dropout(p=0.1, inplace=False)\n",
              "          )\n",
              "        )\n",
              "      )\n",
              "    )\n",
              "  )\n",
              "  (qa_outputs): Linear(in_features=768, out_features=2, bias=True)\n",
              ")"
            ]
          },
          "metadata": {},
          "execution_count": 22
        }
      ]
    },
    {
      "cell_type": "code",
      "source": [
        "trainer.save_model(\"/content/drive/MyDrive/nlp_dataset/models/roberta-finetuned-20240811\")"
      ],
      "metadata": {
        "id": "GCsE63YYqlsD"
      },
      "execution_count": null,
      "outputs": []
    },
    {
      "cell_type": "code",
      "source": [
        "!pip3 install boto3"
      ],
      "metadata": {
        "id": "20TO4RJ9CRZA"
      },
      "execution_count": null,
      "outputs": []
    },
    {
      "source": [
        "import boto3\n",
        "\n",
        "# S3 クライアントを作成\n",
        "s3 = boto3.client('s3')\n",
        "\n",
        "# アップロードするファイルのパス\n",
        "file_path = base_path + 'yuukimotai_roberta-finetuned-squad_20240814/checkpoint-2650/'\n",
        "\n",
        "# S3 バケット名とファイル名\n",
        "bucket_name = 'yuukimotai-transformers-model-checkpoints'\n",
        "object_name = 'finetuned20240814'\n",
        "\n",
        "# ファイルをアップロード\n",
        "s3.put_object(Bucket=bucket_name, Key=object_name)  #ディレクトリ作成\n",
        "for file in os.listdir(file_path):\n",
        "    s3.upload_file(file_path + file, bucket_name, object_name)"
      ],
      "cell_type": "code",
      "metadata": {
        "id": "ogbSdZQlGfQp"
      },
      "execution_count": null,
      "outputs": []
    },
    {
      "cell_type": "code",
      "source": [
        "import boto3\n",
        "s3 = boto3.client('s3')\n",
        "s3.download_file('yuukimotai-transformers-model-checkpoints', 'finetuned20240814.zip', 'finetuned20240814.zip')"
      ],
      "metadata": {
        "id": "iXDwi2kArrRi"
      },
      "execution_count": null,
      "outputs": []
    },
    {
      "cell_type": "code",
      "source": [
        "import zipfile\n",
        "with zipfile.ZipFile('finetuned20240814.zip', 'r') as zip_ref:\n",
        "    zip_ref.extractall('.')"
      ],
      "metadata": {
        "id": "v5XoEUsYrt8k"
      },
      "execution_count": null,
      "outputs": []
    }
  ],
  "metadata": {
    "colab": {
      "gpuType": "T4",
      "machine_shape": "hm",
      "provenance": [],
      "mount_file_id": "18LgRoKOCQQM1zggCJY3ekUjmzS_yi-fd",
      "authorship_tag": "ABX9TyPBAN4Q6kWWNiHX/OScAaf+",
      "include_colab_link": true
    },
    "kernelspec": {
      "display_name": "Python 3",
      "name": "python3"
    },
    "language_info": {
      "name": "python"
    },
    "widgets": {
      "application/vnd.jupyter.widget-state+json": {
        "958765a8953f42108f86d35d134b5194": {
          "model_module": "@jupyter-widgets/controls",
          "model_name": "HBoxModel",
          "model_module_version": "1.5.0",
          "state": {
            "_dom_classes": [],
            "_model_module": "@jupyter-widgets/controls",
            "_model_module_version": "1.5.0",
            "_model_name": "HBoxModel",
            "_view_count": null,
            "_view_module": "@jupyter-widgets/controls",
            "_view_module_version": "1.5.0",
            "_view_name": "HBoxView",
            "box_style": "",
            "children": [
              "IPY_MODEL_a617b21350dc44fea2a464808bfea02b",
              "IPY_MODEL_314c74ff5c484c1384f8cf41aec704fa",
              "IPY_MODEL_00f9cb3fa00048fba8c3833ffee7777d"
            ],
            "layout": "IPY_MODEL_38f1b3d244b84f4d8221f0c43eaf9212"
          }
        },
        "a617b21350dc44fea2a464808bfea02b": {
          "model_module": "@jupyter-widgets/controls",
          "model_name": "HTMLModel",
          "model_module_version": "1.5.0",
          "state": {
            "_dom_classes": [],
            "_model_module": "@jupyter-widgets/controls",
            "_model_module_version": "1.5.0",
            "_model_name": "HTMLModel",
            "_view_count": null,
            "_view_module": "@jupyter-widgets/controls",
            "_view_module_version": "1.5.0",
            "_view_name": "HTMLView",
            "description": "",
            "description_tooltip": null,
            "layout": "IPY_MODEL_ff7ac67e4766448597885868cf53b798",
            "placeholder": "​",
            "style": "IPY_MODEL_fb30a8b76577459898f7dcdad665f438",
            "value": "Downloading data: 100%"
          }
        },
        "314c74ff5c484c1384f8cf41aec704fa": {
          "model_module": "@jupyter-widgets/controls",
          "model_name": "FloatProgressModel",
          "model_module_version": "1.5.0",
          "state": {
            "_dom_classes": [],
            "_model_module": "@jupyter-widgets/controls",
            "_model_module_version": "1.5.0",
            "_model_name": "FloatProgressModel",
            "_view_count": null,
            "_view_module": "@jupyter-widgets/controls",
            "_view_module_version": "1.5.0",
            "_view_name": "ProgressView",
            "bar_style": "success",
            "description": "",
            "description_tooltip": null,
            "layout": "IPY_MODEL_9d2b4f9cf56a4a74a4517379526cc0b8",
            "max": 8534615,
            "min": 0,
            "orientation": "horizontal",
            "style": "IPY_MODEL_32caf49f3b324dd8aa6a517a3e64a8cc",
            "value": 8534615
          }
        },
        "00f9cb3fa00048fba8c3833ffee7777d": {
          "model_module": "@jupyter-widgets/controls",
          "model_name": "HTMLModel",
          "model_module_version": "1.5.0",
          "state": {
            "_dom_classes": [],
            "_model_module": "@jupyter-widgets/controls",
            "_model_module_version": "1.5.0",
            "_model_name": "HTMLModel",
            "_view_count": null,
            "_view_module": "@jupyter-widgets/controls",
            "_view_module_version": "1.5.0",
            "_view_name": "HTMLView",
            "description": "",
            "description_tooltip": null,
            "layout": "IPY_MODEL_45f13c2c991b4b60bf7a9b93531d465c",
            "placeholder": "​",
            "style": "IPY_MODEL_d8b0aaff87c94f24873efdc30abc316e",
            "value": " 8.53M/8.53M [00:01&lt;00:00, 6.91MB/s]"
          }
        },
        "38f1b3d244b84f4d8221f0c43eaf9212": {
          "model_module": "@jupyter-widgets/base",
          "model_name": "LayoutModel",
          "model_module_version": "1.2.0",
          "state": {
            "_model_module": "@jupyter-widgets/base",
            "_model_module_version": "1.2.0",
            "_model_name": "LayoutModel",
            "_view_count": null,
            "_view_module": "@jupyter-widgets/base",
            "_view_module_version": "1.2.0",
            "_view_name": "LayoutView",
            "align_content": null,
            "align_items": null,
            "align_self": null,
            "border": null,
            "bottom": null,
            "display": null,
            "flex": null,
            "flex_flow": null,
            "grid_area": null,
            "grid_auto_columns": null,
            "grid_auto_flow": null,
            "grid_auto_rows": null,
            "grid_column": null,
            "grid_gap": null,
            "grid_row": null,
            "grid_template_areas": null,
            "grid_template_columns": null,
            "grid_template_rows": null,
            "height": null,
            "justify_content": null,
            "justify_items": null,
            "left": null,
            "margin": null,
            "max_height": null,
            "max_width": null,
            "min_height": null,
            "min_width": null,
            "object_fit": null,
            "object_position": null,
            "order": null,
            "overflow": null,
            "overflow_x": null,
            "overflow_y": null,
            "padding": null,
            "right": null,
            "top": null,
            "visibility": null,
            "width": null
          }
        },
        "ff7ac67e4766448597885868cf53b798": {
          "model_module": "@jupyter-widgets/base",
          "model_name": "LayoutModel",
          "model_module_version": "1.2.0",
          "state": {
            "_model_module": "@jupyter-widgets/base",
            "_model_module_version": "1.2.0",
            "_model_name": "LayoutModel",
            "_view_count": null,
            "_view_module": "@jupyter-widgets/base",
            "_view_module_version": "1.2.0",
            "_view_name": "LayoutView",
            "align_content": null,
            "align_items": null,
            "align_self": null,
            "border": null,
            "bottom": null,
            "display": null,
            "flex": null,
            "flex_flow": null,
            "grid_area": null,
            "grid_auto_columns": null,
            "grid_auto_flow": null,
            "grid_auto_rows": null,
            "grid_column": null,
            "grid_gap": null,
            "grid_row": null,
            "grid_template_areas": null,
            "grid_template_columns": null,
            "grid_template_rows": null,
            "height": null,
            "justify_content": null,
            "justify_items": null,
            "left": null,
            "margin": null,
            "max_height": null,
            "max_width": null,
            "min_height": null,
            "min_width": null,
            "object_fit": null,
            "object_position": null,
            "order": null,
            "overflow": null,
            "overflow_x": null,
            "overflow_y": null,
            "padding": null,
            "right": null,
            "top": null,
            "visibility": null,
            "width": null
          }
        },
        "fb30a8b76577459898f7dcdad665f438": {
          "model_module": "@jupyter-widgets/controls",
          "model_name": "DescriptionStyleModel",
          "model_module_version": "1.5.0",
          "state": {
            "_model_module": "@jupyter-widgets/controls",
            "_model_module_version": "1.5.0",
            "_model_name": "DescriptionStyleModel",
            "_view_count": null,
            "_view_module": "@jupyter-widgets/base",
            "_view_module_version": "1.2.0",
            "_view_name": "StyleView",
            "description_width": ""
          }
        },
        "9d2b4f9cf56a4a74a4517379526cc0b8": {
          "model_module": "@jupyter-widgets/base",
          "model_name": "LayoutModel",
          "model_module_version": "1.2.0",
          "state": {
            "_model_module": "@jupyter-widgets/base",
            "_model_module_version": "1.2.0",
            "_model_name": "LayoutModel",
            "_view_count": null,
            "_view_module": "@jupyter-widgets/base",
            "_view_module_version": "1.2.0",
            "_view_name": "LayoutView",
            "align_content": null,
            "align_items": null,
            "align_self": null,
            "border": null,
            "bottom": null,
            "display": null,
            "flex": null,
            "flex_flow": null,
            "grid_area": null,
            "grid_auto_columns": null,
            "grid_auto_flow": null,
            "grid_auto_rows": null,
            "grid_column": null,
            "grid_gap": null,
            "grid_row": null,
            "grid_template_areas": null,
            "grid_template_columns": null,
            "grid_template_rows": null,
            "height": null,
            "justify_content": null,
            "justify_items": null,
            "left": null,
            "margin": null,
            "max_height": null,
            "max_width": null,
            "min_height": null,
            "min_width": null,
            "object_fit": null,
            "object_position": null,
            "order": null,
            "overflow": null,
            "overflow_x": null,
            "overflow_y": null,
            "padding": null,
            "right": null,
            "top": null,
            "visibility": null,
            "width": null
          }
        },
        "32caf49f3b324dd8aa6a517a3e64a8cc": {
          "model_module": "@jupyter-widgets/controls",
          "model_name": "ProgressStyleModel",
          "model_module_version": "1.5.0",
          "state": {
            "_model_module": "@jupyter-widgets/controls",
            "_model_module_version": "1.5.0",
            "_model_name": "ProgressStyleModel",
            "_view_count": null,
            "_view_module": "@jupyter-widgets/base",
            "_view_module_version": "1.2.0",
            "_view_name": "StyleView",
            "bar_color": null,
            "description_width": ""
          }
        },
        "45f13c2c991b4b60bf7a9b93531d465c": {
          "model_module": "@jupyter-widgets/base",
          "model_name": "LayoutModel",
          "model_module_version": "1.2.0",
          "state": {
            "_model_module": "@jupyter-widgets/base",
            "_model_module_version": "1.2.0",
            "_model_name": "LayoutModel",
            "_view_count": null,
            "_view_module": "@jupyter-widgets/base",
            "_view_module_version": "1.2.0",
            "_view_name": "LayoutView",
            "align_content": null,
            "align_items": null,
            "align_self": null,
            "border": null,
            "bottom": null,
            "display": null,
            "flex": null,
            "flex_flow": null,
            "grid_area": null,
            "grid_auto_columns": null,
            "grid_auto_flow": null,
            "grid_auto_rows": null,
            "grid_column": null,
            "grid_gap": null,
            "grid_row": null,
            "grid_template_areas": null,
            "grid_template_columns": null,
            "grid_template_rows": null,
            "height": null,
            "justify_content": null,
            "justify_items": null,
            "left": null,
            "margin": null,
            "max_height": null,
            "max_width": null,
            "min_height": null,
            "min_width": null,
            "object_fit": null,
            "object_position": null,
            "order": null,
            "overflow": null,
            "overflow_x": null,
            "overflow_y": null,
            "padding": null,
            "right": null,
            "top": null,
            "visibility": null,
            "width": null
          }
        },
        "d8b0aaff87c94f24873efdc30abc316e": {
          "model_module": "@jupyter-widgets/controls",
          "model_name": "DescriptionStyleModel",
          "model_module_version": "1.5.0",
          "state": {
            "_model_module": "@jupyter-widgets/controls",
            "_model_module_version": "1.5.0",
            "_model_name": "DescriptionStyleModel",
            "_view_count": null,
            "_view_module": "@jupyter-widgets/base",
            "_view_module_version": "1.2.0",
            "_view_name": "StyleView",
            "description_width": ""
          }
        },
        "75c71989ad3e4167bc52594be97bef2d": {
          "model_module": "@jupyter-widgets/controls",
          "model_name": "HBoxModel",
          "model_module_version": "1.5.0",
          "state": {
            "_dom_classes": [],
            "_model_module": "@jupyter-widgets/controls",
            "_model_module_version": "1.5.0",
            "_model_name": "HBoxModel",
            "_view_count": null,
            "_view_module": "@jupyter-widgets/controls",
            "_view_module_version": "1.5.0",
            "_view_name": "HBoxView",
            "box_style": "",
            "children": [
              "IPY_MODEL_c266de5ac91c40ac87d64404071958ac",
              "IPY_MODEL_dcd98b9e6738471190ba9d1150db1bef",
              "IPY_MODEL_6d97ac8ec2c2444c912e5180c6699818"
            ],
            "layout": "IPY_MODEL_18b4d29696a94b93b3f0e3724e6c919c"
          }
        },
        "c266de5ac91c40ac87d64404071958ac": {
          "model_module": "@jupyter-widgets/controls",
          "model_name": "HTMLModel",
          "model_module_version": "1.5.0",
          "state": {
            "_dom_classes": [],
            "_model_module": "@jupyter-widgets/controls",
            "_model_module_version": "1.5.0",
            "_model_name": "HTMLModel",
            "_view_count": null,
            "_view_module": "@jupyter-widgets/controls",
            "_view_module_version": "1.5.0",
            "_view_name": "HTMLView",
            "description": "",
            "description_tooltip": null,
            "layout": "IPY_MODEL_24fd705499984982b6c5e9ce0169c7b3",
            "placeholder": "​",
            "style": "IPY_MODEL_696c2f7de71c4586a0a75f6be899cab8",
            "value": "Downloading data: 100%"
          }
        },
        "dcd98b9e6738471190ba9d1150db1bef": {
          "model_module": "@jupyter-widgets/controls",
          "model_name": "FloatProgressModel",
          "model_module_version": "1.5.0",
          "state": {
            "_dom_classes": [],
            "_model_module": "@jupyter-widgets/controls",
            "_model_module_version": "1.5.0",
            "_model_name": "FloatProgressModel",
            "_view_count": null,
            "_view_module": "@jupyter-widgets/controls",
            "_view_module_version": "1.5.0",
            "_view_name": "ProgressView",
            "bar_style": "success",
            "description": "",
            "description_tooltip": null,
            "layout": "IPY_MODEL_3777def3c9944330ad5c2ffd902ff4fb",
            "max": 1175308,
            "min": 0,
            "orientation": "horizontal",
            "style": "IPY_MODEL_b2802591f202440daf7134c4c19521f8",
            "value": 1175308
          }
        },
        "6d97ac8ec2c2444c912e5180c6699818": {
          "model_module": "@jupyter-widgets/controls",
          "model_name": "HTMLModel",
          "model_module_version": "1.5.0",
          "state": {
            "_dom_classes": [],
            "_model_module": "@jupyter-widgets/controls",
            "_model_module_version": "1.5.0",
            "_model_name": "HTMLModel",
            "_view_count": null,
            "_view_module": "@jupyter-widgets/controls",
            "_view_module_version": "1.5.0",
            "_view_name": "HTMLView",
            "description": "",
            "description_tooltip": null,
            "layout": "IPY_MODEL_16f0d9479d7f4b6dba47fd7a2b933f1f",
            "placeholder": "​",
            "style": "IPY_MODEL_ff1bdae1cb4e4627ae259385a4547e19",
            "value": " 1.18M/1.18M [00:01&lt;00:00, 1.01MB/s]"
          }
        },
        "18b4d29696a94b93b3f0e3724e6c919c": {
          "model_module": "@jupyter-widgets/base",
          "model_name": "LayoutModel",
          "model_module_version": "1.2.0",
          "state": {
            "_model_module": "@jupyter-widgets/base",
            "_model_module_version": "1.2.0",
            "_model_name": "LayoutModel",
            "_view_count": null,
            "_view_module": "@jupyter-widgets/base",
            "_view_module_version": "1.2.0",
            "_view_name": "LayoutView",
            "align_content": null,
            "align_items": null,
            "align_self": null,
            "border": null,
            "bottom": null,
            "display": null,
            "flex": null,
            "flex_flow": null,
            "grid_area": null,
            "grid_auto_columns": null,
            "grid_auto_flow": null,
            "grid_auto_rows": null,
            "grid_column": null,
            "grid_gap": null,
            "grid_row": null,
            "grid_template_areas": null,
            "grid_template_columns": null,
            "grid_template_rows": null,
            "height": null,
            "justify_content": null,
            "justify_items": null,
            "left": null,
            "margin": null,
            "max_height": null,
            "max_width": null,
            "min_height": null,
            "min_width": null,
            "object_fit": null,
            "object_position": null,
            "order": null,
            "overflow": null,
            "overflow_x": null,
            "overflow_y": null,
            "padding": null,
            "right": null,
            "top": null,
            "visibility": null,
            "width": null
          }
        },
        "24fd705499984982b6c5e9ce0169c7b3": {
          "model_module": "@jupyter-widgets/base",
          "model_name": "LayoutModel",
          "model_module_version": "1.2.0",
          "state": {
            "_model_module": "@jupyter-widgets/base",
            "_model_module_version": "1.2.0",
            "_model_name": "LayoutModel",
            "_view_count": null,
            "_view_module": "@jupyter-widgets/base",
            "_view_module_version": "1.2.0",
            "_view_name": "LayoutView",
            "align_content": null,
            "align_items": null,
            "align_self": null,
            "border": null,
            "bottom": null,
            "display": null,
            "flex": null,
            "flex_flow": null,
            "grid_area": null,
            "grid_auto_columns": null,
            "grid_auto_flow": null,
            "grid_auto_rows": null,
            "grid_column": null,
            "grid_gap": null,
            "grid_row": null,
            "grid_template_areas": null,
            "grid_template_columns": null,
            "grid_template_rows": null,
            "height": null,
            "justify_content": null,
            "justify_items": null,
            "left": null,
            "margin": null,
            "max_height": null,
            "max_width": null,
            "min_height": null,
            "min_width": null,
            "object_fit": null,
            "object_position": null,
            "order": null,
            "overflow": null,
            "overflow_x": null,
            "overflow_y": null,
            "padding": null,
            "right": null,
            "top": null,
            "visibility": null,
            "width": null
          }
        },
        "696c2f7de71c4586a0a75f6be899cab8": {
          "model_module": "@jupyter-widgets/controls",
          "model_name": "DescriptionStyleModel",
          "model_module_version": "1.5.0",
          "state": {
            "_model_module": "@jupyter-widgets/controls",
            "_model_module_version": "1.5.0",
            "_model_name": "DescriptionStyleModel",
            "_view_count": null,
            "_view_module": "@jupyter-widgets/base",
            "_view_module_version": "1.2.0",
            "_view_name": "StyleView",
            "description_width": ""
          }
        },
        "3777def3c9944330ad5c2ffd902ff4fb": {
          "model_module": "@jupyter-widgets/base",
          "model_name": "LayoutModel",
          "model_module_version": "1.2.0",
          "state": {
            "_model_module": "@jupyter-widgets/base",
            "_model_module_version": "1.2.0",
            "_model_name": "LayoutModel",
            "_view_count": null,
            "_view_module": "@jupyter-widgets/base",
            "_view_module_version": "1.2.0",
            "_view_name": "LayoutView",
            "align_content": null,
            "align_items": null,
            "align_self": null,
            "border": null,
            "bottom": null,
            "display": null,
            "flex": null,
            "flex_flow": null,
            "grid_area": null,
            "grid_auto_columns": null,
            "grid_auto_flow": null,
            "grid_auto_rows": null,
            "grid_column": null,
            "grid_gap": null,
            "grid_row": null,
            "grid_template_areas": null,
            "grid_template_columns": null,
            "grid_template_rows": null,
            "height": null,
            "justify_content": null,
            "justify_items": null,
            "left": null,
            "margin": null,
            "max_height": null,
            "max_width": null,
            "min_height": null,
            "min_width": null,
            "object_fit": null,
            "object_position": null,
            "order": null,
            "overflow": null,
            "overflow_x": null,
            "overflow_y": null,
            "padding": null,
            "right": null,
            "top": null,
            "visibility": null,
            "width": null
          }
        },
        "b2802591f202440daf7134c4c19521f8": {
          "model_module": "@jupyter-widgets/controls",
          "model_name": "ProgressStyleModel",
          "model_module_version": "1.5.0",
          "state": {
            "_model_module": "@jupyter-widgets/controls",
            "_model_module_version": "1.5.0",
            "_model_name": "ProgressStyleModel",
            "_view_count": null,
            "_view_module": "@jupyter-widgets/base",
            "_view_module_version": "1.2.0",
            "_view_name": "StyleView",
            "bar_color": null,
            "description_width": ""
          }
        },
        "16f0d9479d7f4b6dba47fd7a2b933f1f": {
          "model_module": "@jupyter-widgets/base",
          "model_name": "LayoutModel",
          "model_module_version": "1.2.0",
          "state": {
            "_model_module": "@jupyter-widgets/base",
            "_model_module_version": "1.2.0",
            "_model_name": "LayoutModel",
            "_view_count": null,
            "_view_module": "@jupyter-widgets/base",
            "_view_module_version": "1.2.0",
            "_view_name": "LayoutView",
            "align_content": null,
            "align_items": null,
            "align_self": null,
            "border": null,
            "bottom": null,
            "display": null,
            "flex": null,
            "flex_flow": null,
            "grid_area": null,
            "grid_auto_columns": null,
            "grid_auto_flow": null,
            "grid_auto_rows": null,
            "grid_column": null,
            "grid_gap": null,
            "grid_row": null,
            "grid_template_areas": null,
            "grid_template_columns": null,
            "grid_template_rows": null,
            "height": null,
            "justify_content": null,
            "justify_items": null,
            "left": null,
            "margin": null,
            "max_height": null,
            "max_width": null,
            "min_height": null,
            "min_width": null,
            "object_fit": null,
            "object_position": null,
            "order": null,
            "overflow": null,
            "overflow_x": null,
            "overflow_y": null,
            "padding": null,
            "right": null,
            "top": null,
            "visibility": null,
            "width": null
          }
        },
        "ff1bdae1cb4e4627ae259385a4547e19": {
          "model_module": "@jupyter-widgets/controls",
          "model_name": "DescriptionStyleModel",
          "model_module_version": "1.5.0",
          "state": {
            "_model_module": "@jupyter-widgets/controls",
            "_model_module_version": "1.5.0",
            "_model_name": "DescriptionStyleModel",
            "_view_count": null,
            "_view_module": "@jupyter-widgets/base",
            "_view_module_version": "1.2.0",
            "_view_name": "StyleView",
            "description_width": ""
          }
        },
        "deab59ca31864456adc0683b32af2a73": {
          "model_module": "@jupyter-widgets/controls",
          "model_name": "HBoxModel",
          "model_module_version": "1.5.0",
          "state": {
            "_dom_classes": [],
            "_model_module": "@jupyter-widgets/controls",
            "_model_module_version": "1.5.0",
            "_model_name": "HBoxModel",
            "_view_count": null,
            "_view_module": "@jupyter-widgets/controls",
            "_view_module_version": "1.5.0",
            "_view_name": "HBoxView",
            "box_style": "",
            "children": [
              "IPY_MODEL_1363b98c11c94e52b401ebba549912ac",
              "IPY_MODEL_7d4982ceb3ca421696bb64f0df148818",
              "IPY_MODEL_ac74faaec8d14286b68287c4c20ddec5"
            ],
            "layout": "IPY_MODEL_5c98d66589334fcaaf0578ef4c748e68"
          }
        },
        "1363b98c11c94e52b401ebba549912ac": {
          "model_module": "@jupyter-widgets/controls",
          "model_name": "HTMLModel",
          "model_module_version": "1.5.0",
          "state": {
            "_dom_classes": [],
            "_model_module": "@jupyter-widgets/controls",
            "_model_module_version": "1.5.0",
            "_model_name": "HTMLModel",
            "_view_count": null,
            "_view_module": "@jupyter-widgets/controls",
            "_view_module_version": "1.5.0",
            "_view_name": "HTMLView",
            "description": "",
            "description_tooltip": null,
            "layout": "IPY_MODEL_afc46d817ebe4ecd81ab126bd52b116d",
            "placeholder": "​",
            "style": "IPY_MODEL_29e5e8f9493948348532b3c9f854cb5d",
            "value": "Generating train split: 100%"
          }
        },
        "7d4982ceb3ca421696bb64f0df148818": {
          "model_module": "@jupyter-widgets/controls",
          "model_name": "FloatProgressModel",
          "model_module_version": "1.5.0",
          "state": {
            "_dom_classes": [],
            "_model_module": "@jupyter-widgets/controls",
            "_model_module_version": "1.5.0",
            "_model_name": "FloatProgressModel",
            "_view_count": null,
            "_view_module": "@jupyter-widgets/controls",
            "_view_module_version": "1.5.0",
            "_view_name": "ProgressView",
            "bar_style": "success",
            "description": "",
            "description_tooltip": null,
            "layout": "IPY_MODEL_905779a4f61f452798675de18d8e232f",
            "max": 31748,
            "min": 0,
            "orientation": "horizontal",
            "style": "IPY_MODEL_fcb5faf4660f4547b1a8743f178a4a90",
            "value": 31748
          }
        },
        "ac74faaec8d14286b68287c4c20ddec5": {
          "model_module": "@jupyter-widgets/controls",
          "model_name": "HTMLModel",
          "model_module_version": "1.5.0",
          "state": {
            "_dom_classes": [],
            "_model_module": "@jupyter-widgets/controls",
            "_model_module_version": "1.5.0",
            "_model_name": "HTMLModel",
            "_view_count": null,
            "_view_module": "@jupyter-widgets/controls",
            "_view_module_version": "1.5.0",
            "_view_name": "HTMLView",
            "description": "",
            "description_tooltip": null,
            "layout": "IPY_MODEL_36147802ce58434c80a36b431bd409ec",
            "placeholder": "​",
            "style": "IPY_MODEL_213ea13ad9a241d3a49f28edfc0298ca",
            "value": " 31748/31748 [00:00&lt;00:00, 193342.07 examples/s]"
          }
        },
        "5c98d66589334fcaaf0578ef4c748e68": {
          "model_module": "@jupyter-widgets/base",
          "model_name": "LayoutModel",
          "model_module_version": "1.2.0",
          "state": {
            "_model_module": "@jupyter-widgets/base",
            "_model_module_version": "1.2.0",
            "_model_name": "LayoutModel",
            "_view_count": null,
            "_view_module": "@jupyter-widgets/base",
            "_view_module_version": "1.2.0",
            "_view_name": "LayoutView",
            "align_content": null,
            "align_items": null,
            "align_self": null,
            "border": null,
            "bottom": null,
            "display": null,
            "flex": null,
            "flex_flow": null,
            "grid_area": null,
            "grid_auto_columns": null,
            "grid_auto_flow": null,
            "grid_auto_rows": null,
            "grid_column": null,
            "grid_gap": null,
            "grid_row": null,
            "grid_template_areas": null,
            "grid_template_columns": null,
            "grid_template_rows": null,
            "height": null,
            "justify_content": null,
            "justify_items": null,
            "left": null,
            "margin": null,
            "max_height": null,
            "max_width": null,
            "min_height": null,
            "min_width": null,
            "object_fit": null,
            "object_position": null,
            "order": null,
            "overflow": null,
            "overflow_x": null,
            "overflow_y": null,
            "padding": null,
            "right": null,
            "top": null,
            "visibility": null,
            "width": null
          }
        },
        "afc46d817ebe4ecd81ab126bd52b116d": {
          "model_module": "@jupyter-widgets/base",
          "model_name": "LayoutModel",
          "model_module_version": "1.2.0",
          "state": {
            "_model_module": "@jupyter-widgets/base",
            "_model_module_version": "1.2.0",
            "_model_name": "LayoutModel",
            "_view_count": null,
            "_view_module": "@jupyter-widgets/base",
            "_view_module_version": "1.2.0",
            "_view_name": "LayoutView",
            "align_content": null,
            "align_items": null,
            "align_self": null,
            "border": null,
            "bottom": null,
            "display": null,
            "flex": null,
            "flex_flow": null,
            "grid_area": null,
            "grid_auto_columns": null,
            "grid_auto_flow": null,
            "grid_auto_rows": null,
            "grid_column": null,
            "grid_gap": null,
            "grid_row": null,
            "grid_template_areas": null,
            "grid_template_columns": null,
            "grid_template_rows": null,
            "height": null,
            "justify_content": null,
            "justify_items": null,
            "left": null,
            "margin": null,
            "max_height": null,
            "max_width": null,
            "min_height": null,
            "min_width": null,
            "object_fit": null,
            "object_position": null,
            "order": null,
            "overflow": null,
            "overflow_x": null,
            "overflow_y": null,
            "padding": null,
            "right": null,
            "top": null,
            "visibility": null,
            "width": null
          }
        },
        "29e5e8f9493948348532b3c9f854cb5d": {
          "model_module": "@jupyter-widgets/controls",
          "model_name": "DescriptionStyleModel",
          "model_module_version": "1.5.0",
          "state": {
            "_model_module": "@jupyter-widgets/controls",
            "_model_module_version": "1.5.0",
            "_model_name": "DescriptionStyleModel",
            "_view_count": null,
            "_view_module": "@jupyter-widgets/base",
            "_view_module_version": "1.2.0",
            "_view_name": "StyleView",
            "description_width": ""
          }
        },
        "905779a4f61f452798675de18d8e232f": {
          "model_module": "@jupyter-widgets/base",
          "model_name": "LayoutModel",
          "model_module_version": "1.2.0",
          "state": {
            "_model_module": "@jupyter-widgets/base",
            "_model_module_version": "1.2.0",
            "_model_name": "LayoutModel",
            "_view_count": null,
            "_view_module": "@jupyter-widgets/base",
            "_view_module_version": "1.2.0",
            "_view_name": "LayoutView",
            "align_content": null,
            "align_items": null,
            "align_self": null,
            "border": null,
            "bottom": null,
            "display": null,
            "flex": null,
            "flex_flow": null,
            "grid_area": null,
            "grid_auto_columns": null,
            "grid_auto_flow": null,
            "grid_auto_rows": null,
            "grid_column": null,
            "grid_gap": null,
            "grid_row": null,
            "grid_template_areas": null,
            "grid_template_columns": null,
            "grid_template_rows": null,
            "height": null,
            "justify_content": null,
            "justify_items": null,
            "left": null,
            "margin": null,
            "max_height": null,
            "max_width": null,
            "min_height": null,
            "min_width": null,
            "object_fit": null,
            "object_position": null,
            "order": null,
            "overflow": null,
            "overflow_x": null,
            "overflow_y": null,
            "padding": null,
            "right": null,
            "top": null,
            "visibility": null,
            "width": null
          }
        },
        "fcb5faf4660f4547b1a8743f178a4a90": {
          "model_module": "@jupyter-widgets/controls",
          "model_name": "ProgressStyleModel",
          "model_module_version": "1.5.0",
          "state": {
            "_model_module": "@jupyter-widgets/controls",
            "_model_module_version": "1.5.0",
            "_model_name": "ProgressStyleModel",
            "_view_count": null,
            "_view_module": "@jupyter-widgets/base",
            "_view_module_version": "1.2.0",
            "_view_name": "StyleView",
            "bar_color": null,
            "description_width": ""
          }
        },
        "36147802ce58434c80a36b431bd409ec": {
          "model_module": "@jupyter-widgets/base",
          "model_name": "LayoutModel",
          "model_module_version": "1.2.0",
          "state": {
            "_model_module": "@jupyter-widgets/base",
            "_model_module_version": "1.2.0",
            "_model_name": "LayoutModel",
            "_view_count": null,
            "_view_module": "@jupyter-widgets/base",
            "_view_module_version": "1.2.0",
            "_view_name": "LayoutView",
            "align_content": null,
            "align_items": null,
            "align_self": null,
            "border": null,
            "bottom": null,
            "display": null,
            "flex": null,
            "flex_flow": null,
            "grid_area": null,
            "grid_auto_columns": null,
            "grid_auto_flow": null,
            "grid_auto_rows": null,
            "grid_column": null,
            "grid_gap": null,
            "grid_row": null,
            "grid_template_areas": null,
            "grid_template_columns": null,
            "grid_template_rows": null,
            "height": null,
            "justify_content": null,
            "justify_items": null,
            "left": null,
            "margin": null,
            "max_height": null,
            "max_width": null,
            "min_height": null,
            "min_width": null,
            "object_fit": null,
            "object_position": null,
            "order": null,
            "overflow": null,
            "overflow_x": null,
            "overflow_y": null,
            "padding": null,
            "right": null,
            "top": null,
            "visibility": null,
            "width": null
          }
        },
        "213ea13ad9a241d3a49f28edfc0298ca": {
          "model_module": "@jupyter-widgets/controls",
          "model_name": "DescriptionStyleModel",
          "model_module_version": "1.5.0",
          "state": {
            "_model_module": "@jupyter-widgets/controls",
            "_model_module_version": "1.5.0",
            "_model_name": "DescriptionStyleModel",
            "_view_count": null,
            "_view_module": "@jupyter-widgets/base",
            "_view_module_version": "1.2.0",
            "_view_name": "StyleView",
            "description_width": ""
          }
        },
        "5357486b68c146fc9b96a8a96d620648": {
          "model_module": "@jupyter-widgets/controls",
          "model_name": "HBoxModel",
          "model_module_version": "1.5.0",
          "state": {
            "_dom_classes": [],
            "_model_module": "@jupyter-widgets/controls",
            "_model_module_version": "1.5.0",
            "_model_name": "HBoxModel",
            "_view_count": null,
            "_view_module": "@jupyter-widgets/controls",
            "_view_module_version": "1.5.0",
            "_view_name": "HBoxView",
            "box_style": "",
            "children": [
              "IPY_MODEL_a384850f93b448959693a04ae389514d",
              "IPY_MODEL_846a2b3107974f99b7f4a20aacb16bd4",
              "IPY_MODEL_ca2e87f992584e41bab2c47ece3b617d"
            ],
            "layout": "IPY_MODEL_63aeb85414bb43c1a89451ab9bbc2577"
          }
        },
        "a384850f93b448959693a04ae389514d": {
          "model_module": "@jupyter-widgets/controls",
          "model_name": "HTMLModel",
          "model_module_version": "1.5.0",
          "state": {
            "_dom_classes": [],
            "_model_module": "@jupyter-widgets/controls",
            "_model_module_version": "1.5.0",
            "_model_name": "HTMLModel",
            "_view_count": null,
            "_view_module": "@jupyter-widgets/controls",
            "_view_module_version": "1.5.0",
            "_view_name": "HTMLView",
            "description": "",
            "description_tooltip": null,
            "layout": "IPY_MODEL_c28e60160a4f4f80ae426e718a161697",
            "placeholder": "​",
            "style": "IPY_MODEL_d3129e75c86b43e281edf2b27073e7d7",
            "value": "Generating validation split: 100%"
          }
        },
        "846a2b3107974f99b7f4a20aacb16bd4": {
          "model_module": "@jupyter-widgets/controls",
          "model_name": "FloatProgressModel",
          "model_module_version": "1.5.0",
          "state": {
            "_dom_classes": [],
            "_model_module": "@jupyter-widgets/controls",
            "_model_module_version": "1.5.0",
            "_model_name": "FloatProgressModel",
            "_view_count": null,
            "_view_module": "@jupyter-widgets/controls",
            "_view_module_version": "1.5.0",
            "_view_name": "ProgressView",
            "bar_style": "success",
            "description": "",
            "description_tooltip": null,
            "layout": "IPY_MODEL_f8b0cb631fce489bbfb330254c0d2bd7",
            "max": 3939,
            "min": 0,
            "orientation": "horizontal",
            "style": "IPY_MODEL_f478050c53ee4bbcba2c134c989d61ea",
            "value": 3939
          }
        },
        "ca2e87f992584e41bab2c47ece3b617d": {
          "model_module": "@jupyter-widgets/controls",
          "model_name": "HTMLModel",
          "model_module_version": "1.5.0",
          "state": {
            "_dom_classes": [],
            "_model_module": "@jupyter-widgets/controls",
            "_model_module_version": "1.5.0",
            "_model_name": "HTMLModel",
            "_view_count": null,
            "_view_module": "@jupyter-widgets/controls",
            "_view_module_version": "1.5.0",
            "_view_name": "HTMLView",
            "description": "",
            "description_tooltip": null,
            "layout": "IPY_MODEL_f4fb6ab15f0e4001bab0d8a397484961",
            "placeholder": "​",
            "style": "IPY_MODEL_1ca49e3fcfc64b738acbd924235d2e6b",
            "value": " 3939/3939 [00:00&lt;00:00, 105873.60 examples/s]"
          }
        },
        "63aeb85414bb43c1a89451ab9bbc2577": {
          "model_module": "@jupyter-widgets/base",
          "model_name": "LayoutModel",
          "model_module_version": "1.2.0",
          "state": {
            "_model_module": "@jupyter-widgets/base",
            "_model_module_version": "1.2.0",
            "_model_name": "LayoutModel",
            "_view_count": null,
            "_view_module": "@jupyter-widgets/base",
            "_view_module_version": "1.2.0",
            "_view_name": "LayoutView",
            "align_content": null,
            "align_items": null,
            "align_self": null,
            "border": null,
            "bottom": null,
            "display": null,
            "flex": null,
            "flex_flow": null,
            "grid_area": null,
            "grid_auto_columns": null,
            "grid_auto_flow": null,
            "grid_auto_rows": null,
            "grid_column": null,
            "grid_gap": null,
            "grid_row": null,
            "grid_template_areas": null,
            "grid_template_columns": null,
            "grid_template_rows": null,
            "height": null,
            "justify_content": null,
            "justify_items": null,
            "left": null,
            "margin": null,
            "max_height": null,
            "max_width": null,
            "min_height": null,
            "min_width": null,
            "object_fit": null,
            "object_position": null,
            "order": null,
            "overflow": null,
            "overflow_x": null,
            "overflow_y": null,
            "padding": null,
            "right": null,
            "top": null,
            "visibility": null,
            "width": null
          }
        },
        "c28e60160a4f4f80ae426e718a161697": {
          "model_module": "@jupyter-widgets/base",
          "model_name": "LayoutModel",
          "model_module_version": "1.2.0",
          "state": {
            "_model_module": "@jupyter-widgets/base",
            "_model_module_version": "1.2.0",
            "_model_name": "LayoutModel",
            "_view_count": null,
            "_view_module": "@jupyter-widgets/base",
            "_view_module_version": "1.2.0",
            "_view_name": "LayoutView",
            "align_content": null,
            "align_items": null,
            "align_self": null,
            "border": null,
            "bottom": null,
            "display": null,
            "flex": null,
            "flex_flow": null,
            "grid_area": null,
            "grid_auto_columns": null,
            "grid_auto_flow": null,
            "grid_auto_rows": null,
            "grid_column": null,
            "grid_gap": null,
            "grid_row": null,
            "grid_template_areas": null,
            "grid_template_columns": null,
            "grid_template_rows": null,
            "height": null,
            "justify_content": null,
            "justify_items": null,
            "left": null,
            "margin": null,
            "max_height": null,
            "max_width": null,
            "min_height": null,
            "min_width": null,
            "object_fit": null,
            "object_position": null,
            "order": null,
            "overflow": null,
            "overflow_x": null,
            "overflow_y": null,
            "padding": null,
            "right": null,
            "top": null,
            "visibility": null,
            "width": null
          }
        },
        "d3129e75c86b43e281edf2b27073e7d7": {
          "model_module": "@jupyter-widgets/controls",
          "model_name": "DescriptionStyleModel",
          "model_module_version": "1.5.0",
          "state": {
            "_model_module": "@jupyter-widgets/controls",
            "_model_module_version": "1.5.0",
            "_model_name": "DescriptionStyleModel",
            "_view_count": null,
            "_view_module": "@jupyter-widgets/base",
            "_view_module_version": "1.2.0",
            "_view_name": "StyleView",
            "description_width": ""
          }
        },
        "f8b0cb631fce489bbfb330254c0d2bd7": {
          "model_module": "@jupyter-widgets/base",
          "model_name": "LayoutModel",
          "model_module_version": "1.2.0",
          "state": {
            "_model_module": "@jupyter-widgets/base",
            "_model_module_version": "1.2.0",
            "_model_name": "LayoutModel",
            "_view_count": null,
            "_view_module": "@jupyter-widgets/base",
            "_view_module_version": "1.2.0",
            "_view_name": "LayoutView",
            "align_content": null,
            "align_items": null,
            "align_self": null,
            "border": null,
            "bottom": null,
            "display": null,
            "flex": null,
            "flex_flow": null,
            "grid_area": null,
            "grid_auto_columns": null,
            "grid_auto_flow": null,
            "grid_auto_rows": null,
            "grid_column": null,
            "grid_gap": null,
            "grid_row": null,
            "grid_template_areas": null,
            "grid_template_columns": null,
            "grid_template_rows": null,
            "height": null,
            "justify_content": null,
            "justify_items": null,
            "left": null,
            "margin": null,
            "max_height": null,
            "max_width": null,
            "min_height": null,
            "min_width": null,
            "object_fit": null,
            "object_position": null,
            "order": null,
            "overflow": null,
            "overflow_x": null,
            "overflow_y": null,
            "padding": null,
            "right": null,
            "top": null,
            "visibility": null,
            "width": null
          }
        },
        "f478050c53ee4bbcba2c134c989d61ea": {
          "model_module": "@jupyter-widgets/controls",
          "model_name": "ProgressStyleModel",
          "model_module_version": "1.5.0",
          "state": {
            "_model_module": "@jupyter-widgets/controls",
            "_model_module_version": "1.5.0",
            "_model_name": "ProgressStyleModel",
            "_view_count": null,
            "_view_module": "@jupyter-widgets/base",
            "_view_module_version": "1.2.0",
            "_view_name": "StyleView",
            "bar_color": null,
            "description_width": ""
          }
        },
        "f4fb6ab15f0e4001bab0d8a397484961": {
          "model_module": "@jupyter-widgets/base",
          "model_name": "LayoutModel",
          "model_module_version": "1.2.0",
          "state": {
            "_model_module": "@jupyter-widgets/base",
            "_model_module_version": "1.2.0",
            "_model_name": "LayoutModel",
            "_view_count": null,
            "_view_module": "@jupyter-widgets/base",
            "_view_module_version": "1.2.0",
            "_view_name": "LayoutView",
            "align_content": null,
            "align_items": null,
            "align_self": null,
            "border": null,
            "bottom": null,
            "display": null,
            "flex": null,
            "flex_flow": null,
            "grid_area": null,
            "grid_auto_columns": null,
            "grid_auto_flow": null,
            "grid_auto_rows": null,
            "grid_column": null,
            "grid_gap": null,
            "grid_row": null,
            "grid_template_areas": null,
            "grid_template_columns": null,
            "grid_template_rows": null,
            "height": null,
            "justify_content": null,
            "justify_items": null,
            "left": null,
            "margin": null,
            "max_height": null,
            "max_width": null,
            "min_height": null,
            "min_width": null,
            "object_fit": null,
            "object_position": null,
            "order": null,
            "overflow": null,
            "overflow_x": null,
            "overflow_y": null,
            "padding": null,
            "right": null,
            "top": null,
            "visibility": null,
            "width": null
          }
        },
        "1ca49e3fcfc64b738acbd924235d2e6b": {
          "model_module": "@jupyter-widgets/controls",
          "model_name": "DescriptionStyleModel",
          "model_module_version": "1.5.0",
          "state": {
            "_model_module": "@jupyter-widgets/controls",
            "_model_module_version": "1.5.0",
            "_model_name": "DescriptionStyleModel",
            "_view_count": null,
            "_view_module": "@jupyter-widgets/base",
            "_view_module_version": "1.2.0",
            "_view_name": "StyleView",
            "description_width": ""
          }
        },
        "835d5415e7c842a5a17b25c023178360": {
          "model_module": "@jupyter-widgets/controls",
          "model_name": "HBoxModel",
          "model_module_version": "1.5.0",
          "state": {
            "_dom_classes": [],
            "_model_module": "@jupyter-widgets/controls",
            "_model_module_version": "1.5.0",
            "_model_name": "HBoxModel",
            "_view_count": null,
            "_view_module": "@jupyter-widgets/controls",
            "_view_module_version": "1.5.0",
            "_view_name": "HBoxView",
            "box_style": "",
            "children": [
              "IPY_MODEL_c2d0181c401b4a82a9a3519d6b9908fd",
              "IPY_MODEL_a01ad66659f34627bf72a7a503c6e811",
              "IPY_MODEL_47bfd50f49e44f35ba16daa69dda16e7"
            ],
            "layout": "IPY_MODEL_7fb01dd6f6d544979151419b33676b84"
          }
        },
        "c2d0181c401b4a82a9a3519d6b9908fd": {
          "model_module": "@jupyter-widgets/controls",
          "model_name": "HTMLModel",
          "model_module_version": "1.5.0",
          "state": {
            "_dom_classes": [],
            "_model_module": "@jupyter-widgets/controls",
            "_model_module_version": "1.5.0",
            "_model_name": "HTMLModel",
            "_view_count": null,
            "_view_module": "@jupyter-widgets/controls",
            "_view_module_version": "1.5.0",
            "_view_name": "HTMLView",
            "description": "",
            "description_tooltip": null,
            "layout": "IPY_MODEL_7c7006c632c440f7830376cae1f92994",
            "placeholder": "​",
            "style": "IPY_MODEL_44b0e4d5e91a4439ac577c4a3f8d207d",
            "value": "Map: 100%"
          }
        },
        "a01ad66659f34627bf72a7a503c6e811": {
          "model_module": "@jupyter-widgets/controls",
          "model_name": "FloatProgressModel",
          "model_module_version": "1.5.0",
          "state": {
            "_dom_classes": [],
            "_model_module": "@jupyter-widgets/controls",
            "_model_module_version": "1.5.0",
            "_model_name": "FloatProgressModel",
            "_view_count": null,
            "_view_module": "@jupyter-widgets/controls",
            "_view_module_version": "1.5.0",
            "_view_name": "ProgressView",
            "bar_style": "success",
            "description": "",
            "description_tooltip": null,
            "layout": "IPY_MODEL_bb2b33d4de774d8b8bce917d4511abda",
            "max": 31748,
            "min": 0,
            "orientation": "horizontal",
            "style": "IPY_MODEL_98109c2e8f944891b0a6f80bfb6ec516",
            "value": 31748
          }
        },
        "47bfd50f49e44f35ba16daa69dda16e7": {
          "model_module": "@jupyter-widgets/controls",
          "model_name": "HTMLModel",
          "model_module_version": "1.5.0",
          "state": {
            "_dom_classes": [],
            "_model_module": "@jupyter-widgets/controls",
            "_model_module_version": "1.5.0",
            "_model_name": "HTMLModel",
            "_view_count": null,
            "_view_module": "@jupyter-widgets/controls",
            "_view_module_version": "1.5.0",
            "_view_name": "HTMLView",
            "description": "",
            "description_tooltip": null,
            "layout": "IPY_MODEL_2dde7b0a8e3b42ab973826ddad8ede76",
            "placeholder": "​",
            "style": "IPY_MODEL_a6d49954aef84328b7ecc1e0227685b1",
            "value": " 31748/31748 [04:57&lt;00:00, 105.67 examples/s]"
          }
        },
        "7fb01dd6f6d544979151419b33676b84": {
          "model_module": "@jupyter-widgets/base",
          "model_name": "LayoutModel",
          "model_module_version": "1.2.0",
          "state": {
            "_model_module": "@jupyter-widgets/base",
            "_model_module_version": "1.2.0",
            "_model_name": "LayoutModel",
            "_view_count": null,
            "_view_module": "@jupyter-widgets/base",
            "_view_module_version": "1.2.0",
            "_view_name": "LayoutView",
            "align_content": null,
            "align_items": null,
            "align_self": null,
            "border": null,
            "bottom": null,
            "display": null,
            "flex": null,
            "flex_flow": null,
            "grid_area": null,
            "grid_auto_columns": null,
            "grid_auto_flow": null,
            "grid_auto_rows": null,
            "grid_column": null,
            "grid_gap": null,
            "grid_row": null,
            "grid_template_areas": null,
            "grid_template_columns": null,
            "grid_template_rows": null,
            "height": null,
            "justify_content": null,
            "justify_items": null,
            "left": null,
            "margin": null,
            "max_height": null,
            "max_width": null,
            "min_height": null,
            "min_width": null,
            "object_fit": null,
            "object_position": null,
            "order": null,
            "overflow": null,
            "overflow_x": null,
            "overflow_y": null,
            "padding": null,
            "right": null,
            "top": null,
            "visibility": null,
            "width": null
          }
        },
        "7c7006c632c440f7830376cae1f92994": {
          "model_module": "@jupyter-widgets/base",
          "model_name": "LayoutModel",
          "model_module_version": "1.2.0",
          "state": {
            "_model_module": "@jupyter-widgets/base",
            "_model_module_version": "1.2.0",
            "_model_name": "LayoutModel",
            "_view_count": null,
            "_view_module": "@jupyter-widgets/base",
            "_view_module_version": "1.2.0",
            "_view_name": "LayoutView",
            "align_content": null,
            "align_items": null,
            "align_self": null,
            "border": null,
            "bottom": null,
            "display": null,
            "flex": null,
            "flex_flow": null,
            "grid_area": null,
            "grid_auto_columns": null,
            "grid_auto_flow": null,
            "grid_auto_rows": null,
            "grid_column": null,
            "grid_gap": null,
            "grid_row": null,
            "grid_template_areas": null,
            "grid_template_columns": null,
            "grid_template_rows": null,
            "height": null,
            "justify_content": null,
            "justify_items": null,
            "left": null,
            "margin": null,
            "max_height": null,
            "max_width": null,
            "min_height": null,
            "min_width": null,
            "object_fit": null,
            "object_position": null,
            "order": null,
            "overflow": null,
            "overflow_x": null,
            "overflow_y": null,
            "padding": null,
            "right": null,
            "top": null,
            "visibility": null,
            "width": null
          }
        },
        "44b0e4d5e91a4439ac577c4a3f8d207d": {
          "model_module": "@jupyter-widgets/controls",
          "model_name": "DescriptionStyleModel",
          "model_module_version": "1.5.0",
          "state": {
            "_model_module": "@jupyter-widgets/controls",
            "_model_module_version": "1.5.0",
            "_model_name": "DescriptionStyleModel",
            "_view_count": null,
            "_view_module": "@jupyter-widgets/base",
            "_view_module_version": "1.2.0",
            "_view_name": "StyleView",
            "description_width": ""
          }
        },
        "bb2b33d4de774d8b8bce917d4511abda": {
          "model_module": "@jupyter-widgets/base",
          "model_name": "LayoutModel",
          "model_module_version": "1.2.0",
          "state": {
            "_model_module": "@jupyter-widgets/base",
            "_model_module_version": "1.2.0",
            "_model_name": "LayoutModel",
            "_view_count": null,
            "_view_module": "@jupyter-widgets/base",
            "_view_module_version": "1.2.0",
            "_view_name": "LayoutView",
            "align_content": null,
            "align_items": null,
            "align_self": null,
            "border": null,
            "bottom": null,
            "display": null,
            "flex": null,
            "flex_flow": null,
            "grid_area": null,
            "grid_auto_columns": null,
            "grid_auto_flow": null,
            "grid_auto_rows": null,
            "grid_column": null,
            "grid_gap": null,
            "grid_row": null,
            "grid_template_areas": null,
            "grid_template_columns": null,
            "grid_template_rows": null,
            "height": null,
            "justify_content": null,
            "justify_items": null,
            "left": null,
            "margin": null,
            "max_height": null,
            "max_width": null,
            "min_height": null,
            "min_width": null,
            "object_fit": null,
            "object_position": null,
            "order": null,
            "overflow": null,
            "overflow_x": null,
            "overflow_y": null,
            "padding": null,
            "right": null,
            "top": null,
            "visibility": null,
            "width": null
          }
        },
        "98109c2e8f944891b0a6f80bfb6ec516": {
          "model_module": "@jupyter-widgets/controls",
          "model_name": "ProgressStyleModel",
          "model_module_version": "1.5.0",
          "state": {
            "_model_module": "@jupyter-widgets/controls",
            "_model_module_version": "1.5.0",
            "_model_name": "ProgressStyleModel",
            "_view_count": null,
            "_view_module": "@jupyter-widgets/base",
            "_view_module_version": "1.2.0",
            "_view_name": "StyleView",
            "bar_color": null,
            "description_width": ""
          }
        },
        "2dde7b0a8e3b42ab973826ddad8ede76": {
          "model_module": "@jupyter-widgets/base",
          "model_name": "LayoutModel",
          "model_module_version": "1.2.0",
          "state": {
            "_model_module": "@jupyter-widgets/base",
            "_model_module_version": "1.2.0",
            "_model_name": "LayoutModel",
            "_view_count": null,
            "_view_module": "@jupyter-widgets/base",
            "_view_module_version": "1.2.0",
            "_view_name": "LayoutView",
            "align_content": null,
            "align_items": null,
            "align_self": null,
            "border": null,
            "bottom": null,
            "display": null,
            "flex": null,
            "flex_flow": null,
            "grid_area": null,
            "grid_auto_columns": null,
            "grid_auto_flow": null,
            "grid_auto_rows": null,
            "grid_column": null,
            "grid_gap": null,
            "grid_row": null,
            "grid_template_areas": null,
            "grid_template_columns": null,
            "grid_template_rows": null,
            "height": null,
            "justify_content": null,
            "justify_items": null,
            "left": null,
            "margin": null,
            "max_height": null,
            "max_width": null,
            "min_height": null,
            "min_width": null,
            "object_fit": null,
            "object_position": null,
            "order": null,
            "overflow": null,
            "overflow_x": null,
            "overflow_y": null,
            "padding": null,
            "right": null,
            "top": null,
            "visibility": null,
            "width": null
          }
        },
        "a6d49954aef84328b7ecc1e0227685b1": {
          "model_module": "@jupyter-widgets/controls",
          "model_name": "DescriptionStyleModel",
          "model_module_version": "1.5.0",
          "state": {
            "_model_module": "@jupyter-widgets/controls",
            "_model_module_version": "1.5.0",
            "_model_name": "DescriptionStyleModel",
            "_view_count": null,
            "_view_module": "@jupyter-widgets/base",
            "_view_module_version": "1.2.0",
            "_view_name": "StyleView",
            "description_width": ""
          }
        },
        "8a5e4827a193443099df3de46123a811": {
          "model_module": "@jupyter-widgets/controls",
          "model_name": "HBoxModel",
          "model_module_version": "1.5.0",
          "state": {
            "_dom_classes": [],
            "_model_module": "@jupyter-widgets/controls",
            "_model_module_version": "1.5.0",
            "_model_name": "HBoxModel",
            "_view_count": null,
            "_view_module": "@jupyter-widgets/controls",
            "_view_module_version": "1.5.0",
            "_view_name": "HBoxView",
            "box_style": "",
            "children": [
              "IPY_MODEL_2ae9256c82274f56835953b3c384a829",
              "IPY_MODEL_dc7ce86de14d422294e9d530d8c6e318",
              "IPY_MODEL_0494e6898e97402581c3d992b05aa6e5"
            ],
            "layout": "IPY_MODEL_258625bfd6b946dc8ad4d0ce72bac5f2"
          }
        },
        "2ae9256c82274f56835953b3c384a829": {
          "model_module": "@jupyter-widgets/controls",
          "model_name": "HTMLModel",
          "model_module_version": "1.5.0",
          "state": {
            "_dom_classes": [],
            "_model_module": "@jupyter-widgets/controls",
            "_model_module_version": "1.5.0",
            "_model_name": "HTMLModel",
            "_view_count": null,
            "_view_module": "@jupyter-widgets/controls",
            "_view_module_version": "1.5.0",
            "_view_name": "HTMLView",
            "description": "",
            "description_tooltip": null,
            "layout": "IPY_MODEL_fa88c52394aa47fd800d3d9d84dfed80",
            "placeholder": "​",
            "style": "IPY_MODEL_828a402111a14ea7b48fbec655f0cd9e",
            "value": "Map: 100%"
          }
        },
        "dc7ce86de14d422294e9d530d8c6e318": {
          "model_module": "@jupyter-widgets/controls",
          "model_name": "FloatProgressModel",
          "model_module_version": "1.5.0",
          "state": {
            "_dom_classes": [],
            "_model_module": "@jupyter-widgets/controls",
            "_model_module_version": "1.5.0",
            "_model_name": "FloatProgressModel",
            "_view_count": null,
            "_view_module": "@jupyter-widgets/controls",
            "_view_module_version": "1.5.0",
            "_view_name": "ProgressView",
            "bar_style": "success",
            "description": "",
            "description_tooltip": null,
            "layout": "IPY_MODEL_9d3882fb2c394b7aaba723dcaf5d900c",
            "max": 3939,
            "min": 0,
            "orientation": "horizontal",
            "style": "IPY_MODEL_d8e47a6511f2472a9ae3efc3f39b2b78",
            "value": 3939
          }
        },
        "0494e6898e97402581c3d992b05aa6e5": {
          "model_module": "@jupyter-widgets/controls",
          "model_name": "HTMLModel",
          "model_module_version": "1.5.0",
          "state": {
            "_dom_classes": [],
            "_model_module": "@jupyter-widgets/controls",
            "_model_module_version": "1.5.0",
            "_model_name": "HTMLModel",
            "_view_count": null,
            "_view_module": "@jupyter-widgets/controls",
            "_view_module_version": "1.5.0",
            "_view_name": "HTMLView",
            "description": "",
            "description_tooltip": null,
            "layout": "IPY_MODEL_0fdba8c86bd44e7b886607fc2bfd7848",
            "placeholder": "​",
            "style": "IPY_MODEL_7573a16ea75d407bb34891e8781976a3",
            "value": " 3939/3939 [00:35&lt;00:00, 112.05 examples/s]"
          }
        },
        "258625bfd6b946dc8ad4d0ce72bac5f2": {
          "model_module": "@jupyter-widgets/base",
          "model_name": "LayoutModel",
          "model_module_version": "1.2.0",
          "state": {
            "_model_module": "@jupyter-widgets/base",
            "_model_module_version": "1.2.0",
            "_model_name": "LayoutModel",
            "_view_count": null,
            "_view_module": "@jupyter-widgets/base",
            "_view_module_version": "1.2.0",
            "_view_name": "LayoutView",
            "align_content": null,
            "align_items": null,
            "align_self": null,
            "border": null,
            "bottom": null,
            "display": null,
            "flex": null,
            "flex_flow": null,
            "grid_area": null,
            "grid_auto_columns": null,
            "grid_auto_flow": null,
            "grid_auto_rows": null,
            "grid_column": null,
            "grid_gap": null,
            "grid_row": null,
            "grid_template_areas": null,
            "grid_template_columns": null,
            "grid_template_rows": null,
            "height": null,
            "justify_content": null,
            "justify_items": null,
            "left": null,
            "margin": null,
            "max_height": null,
            "max_width": null,
            "min_height": null,
            "min_width": null,
            "object_fit": null,
            "object_position": null,
            "order": null,
            "overflow": null,
            "overflow_x": null,
            "overflow_y": null,
            "padding": null,
            "right": null,
            "top": null,
            "visibility": null,
            "width": null
          }
        },
        "fa88c52394aa47fd800d3d9d84dfed80": {
          "model_module": "@jupyter-widgets/base",
          "model_name": "LayoutModel",
          "model_module_version": "1.2.0",
          "state": {
            "_model_module": "@jupyter-widgets/base",
            "_model_module_version": "1.2.0",
            "_model_name": "LayoutModel",
            "_view_count": null,
            "_view_module": "@jupyter-widgets/base",
            "_view_module_version": "1.2.0",
            "_view_name": "LayoutView",
            "align_content": null,
            "align_items": null,
            "align_self": null,
            "border": null,
            "bottom": null,
            "display": null,
            "flex": null,
            "flex_flow": null,
            "grid_area": null,
            "grid_auto_columns": null,
            "grid_auto_flow": null,
            "grid_auto_rows": null,
            "grid_column": null,
            "grid_gap": null,
            "grid_row": null,
            "grid_template_areas": null,
            "grid_template_columns": null,
            "grid_template_rows": null,
            "height": null,
            "justify_content": null,
            "justify_items": null,
            "left": null,
            "margin": null,
            "max_height": null,
            "max_width": null,
            "min_height": null,
            "min_width": null,
            "object_fit": null,
            "object_position": null,
            "order": null,
            "overflow": null,
            "overflow_x": null,
            "overflow_y": null,
            "padding": null,
            "right": null,
            "top": null,
            "visibility": null,
            "width": null
          }
        },
        "828a402111a14ea7b48fbec655f0cd9e": {
          "model_module": "@jupyter-widgets/controls",
          "model_name": "DescriptionStyleModel",
          "model_module_version": "1.5.0",
          "state": {
            "_model_module": "@jupyter-widgets/controls",
            "_model_module_version": "1.5.0",
            "_model_name": "DescriptionStyleModel",
            "_view_count": null,
            "_view_module": "@jupyter-widgets/base",
            "_view_module_version": "1.2.0",
            "_view_name": "StyleView",
            "description_width": ""
          }
        },
        "9d3882fb2c394b7aaba723dcaf5d900c": {
          "model_module": "@jupyter-widgets/base",
          "model_name": "LayoutModel",
          "model_module_version": "1.2.0",
          "state": {
            "_model_module": "@jupyter-widgets/base",
            "_model_module_version": "1.2.0",
            "_model_name": "LayoutModel",
            "_view_count": null,
            "_view_module": "@jupyter-widgets/base",
            "_view_module_version": "1.2.0",
            "_view_name": "LayoutView",
            "align_content": null,
            "align_items": null,
            "align_self": null,
            "border": null,
            "bottom": null,
            "display": null,
            "flex": null,
            "flex_flow": null,
            "grid_area": null,
            "grid_auto_columns": null,
            "grid_auto_flow": null,
            "grid_auto_rows": null,
            "grid_column": null,
            "grid_gap": null,
            "grid_row": null,
            "grid_template_areas": null,
            "grid_template_columns": null,
            "grid_template_rows": null,
            "height": null,
            "justify_content": null,
            "justify_items": null,
            "left": null,
            "margin": null,
            "max_height": null,
            "max_width": null,
            "min_height": null,
            "min_width": null,
            "object_fit": null,
            "object_position": null,
            "order": null,
            "overflow": null,
            "overflow_x": null,
            "overflow_y": null,
            "padding": null,
            "right": null,
            "top": null,
            "visibility": null,
            "width": null
          }
        },
        "d8e47a6511f2472a9ae3efc3f39b2b78": {
          "model_module": "@jupyter-widgets/controls",
          "model_name": "ProgressStyleModel",
          "model_module_version": "1.5.0",
          "state": {
            "_model_module": "@jupyter-widgets/controls",
            "_model_module_version": "1.5.0",
            "_model_name": "ProgressStyleModel",
            "_view_count": null,
            "_view_module": "@jupyter-widgets/base",
            "_view_module_version": "1.2.0",
            "_view_name": "StyleView",
            "bar_color": null,
            "description_width": ""
          }
        },
        "0fdba8c86bd44e7b886607fc2bfd7848": {
          "model_module": "@jupyter-widgets/base",
          "model_name": "LayoutModel",
          "model_module_version": "1.2.0",
          "state": {
            "_model_module": "@jupyter-widgets/base",
            "_model_module_version": "1.2.0",
            "_model_name": "LayoutModel",
            "_view_count": null,
            "_view_module": "@jupyter-widgets/base",
            "_view_module_version": "1.2.0",
            "_view_name": "LayoutView",
            "align_content": null,
            "align_items": null,
            "align_self": null,
            "border": null,
            "bottom": null,
            "display": null,
            "flex": null,
            "flex_flow": null,
            "grid_area": null,
            "grid_auto_columns": null,
            "grid_auto_flow": null,
            "grid_auto_rows": null,
            "grid_column": null,
            "grid_gap": null,
            "grid_row": null,
            "grid_template_areas": null,
            "grid_template_columns": null,
            "grid_template_rows": null,
            "height": null,
            "justify_content": null,
            "justify_items": null,
            "left": null,
            "margin": null,
            "max_height": null,
            "max_width": null,
            "min_height": null,
            "min_width": null,
            "object_fit": null,
            "object_position": null,
            "order": null,
            "overflow": null,
            "overflow_x": null,
            "overflow_y": null,
            "padding": null,
            "right": null,
            "top": null,
            "visibility": null,
            "width": null
          }
        },
        "7573a16ea75d407bb34891e8781976a3": {
          "model_module": "@jupyter-widgets/controls",
          "model_name": "DescriptionStyleModel",
          "model_module_version": "1.5.0",
          "state": {
            "_model_module": "@jupyter-widgets/controls",
            "_model_module_version": "1.5.0",
            "_model_name": "DescriptionStyleModel",
            "_view_count": null,
            "_view_module": "@jupyter-widgets/base",
            "_view_module_version": "1.2.0",
            "_view_name": "StyleView",
            "description_width": ""
          }
        }
      }
    },
    "accelerator": "GPU"
  },
  "nbformat": 4,
  "nbformat_minor": 0
}