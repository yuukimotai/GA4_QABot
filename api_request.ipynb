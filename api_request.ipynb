{
  "nbformat": 4,
  "nbformat_minor": 0,
  "metadata": {
    "colab": {
      "provenance": [],
      "authorship_tag": "ABX9TyNm7gY+FZK9I52i50A9iE7g",
      "include_colab_link": true
    },
    "kernelspec": {
      "name": "python3",
      "display_name": "Python 3"
    },
    "language_info": {
      "name": "python"
    }
  },
  "cells": [
    {
      "cell_type": "markdown",
      "metadata": {
        "id": "view-in-github",
        "colab_type": "text"
      },
      "source": [
        "<a href=\"https://colab.research.google.com/github/yuukimotai/GA4_QABot/blob/main/api_request.ipynb\" target=\"_parent\"><img src=\"https://colab.research.google.com/assets/colab-badge.svg\" alt=\"Open In Colab\"/></a>"
      ]
    },
    {
      "cell_type": "code",
      "execution_count": 103,
      "metadata": {
        "id": "3BtzukniHpRB"
      },
      "outputs": [],
      "source": [
        "url = \"https://app.rakuten.co.jp/services/api/BooksBook/Search/20170404?format=json&booksGenreId=001004008&applicationId=1073592281532444208\""
      ]
    },
    {
      "cell_type": "code",
      "source": [
        "from google.colab import drive\n",
        "drive.mount('/content/drive')"
      ],
      "metadata": {
        "colab": {
          "base_uri": "https://localhost:8080/"
        },
        "id": "jbNi84hVC-5w",
        "outputId": "3915b4f8-c62f-4450-ee65-d7acc69a31cf"
      },
      "execution_count": 105,
      "outputs": [
        {
          "output_type": "stream",
          "name": "stdout",
          "text": [
            "Mounted at /content/drive\n"
          ]
        }
      ]
    },
    {
      "cell_type": "code",
      "source": [
        "path = \"drive/MyDrive/nlp_dataset/\""
      ],
      "metadata": {
        "id": "d7vKkyFODKjC"
      },
      "execution_count": 117,
      "outputs": []
    },
    {
      "cell_type": "code",
      "source": [
        "import requests\n",
        "\n",
        "\n",
        "\n",
        "response = requests.get(url)\n",
        "data = response.json()\n",
        "currentPage = 1\n",
        "hits = data[\"hits\"]\n",
        "currentLast = int(hits)\n",
        "last = data[\"pageCount\"]\n",
        "items = data[\"Items\"]\n",
        "\n",
        "with open(path + \"rakuten_book.txt\", mode=\"w\") as f:\n",
        "  if currentPage == 1:\n",
        "    for i  in range(0, hits, 1):\n",
        "      print(f\"caption{i}: \", items[i][\"Item\"][\"itemCaption\"])\n",
        "      target_text = items[i][\"Item\"][\"itemCaption\"]\n",
        "      f.write(target_text + \"\\n\")\n",
        "    currentPage += 1\n",
        "    print(currentPage)\n",
        "  if currentPage >= 2:\n",
        "    for i in range(1, last, 1):\n",
        "      url += \"&page=\" + str(currentPage)\n",
        "      response = requests.get(url)\n",
        "      data = response.json()\n",
        "      print(data)\n",
        "      items = data[\"Items\"]\n",
        "      for i  in range(0, hits, 1):\n",
        "        print(f\"caption{i}: \", items[i][\"Item\"][\"itemCaption\"])\n",
        "        target_text = items[i][\"Item\"][\"itemCaption\"]\n",
        "        f.write(target_text + \"\\n\")\n",
        "      url = \"https://app.rakuten.co.jp/services/api/BooksBook/Search/20170404?format=json&booksGenreId=001004008&applicationId=1073592281532444208\"\n",
        "      currentPage += 1\n",
        "      print(currentPage)\n",
        "  f.close()"
      ],
      "metadata": {
        "id": "nCLbL9c9IOL0"
      },
      "execution_count": null,
      "outputs": []
    }
  ]
}